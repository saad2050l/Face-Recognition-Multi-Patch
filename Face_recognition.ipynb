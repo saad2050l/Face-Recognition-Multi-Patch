{
  "nbformat": 4,
  "nbformat_minor": 0,
  "metadata": {
    "colab": {
      "name": "Face_recognition.ipynb",
      "provenance": [],
      "collapsed_sections": []
    },
    "kernelspec": {
      "name": "python3",
      "display_name": "Python 3"
    },
    "language_info": {
      "name": "python"
    },
    "accelerator": "GPU"
  },
  "cells": [
    {
      "cell_type": "markdown",
      "metadata": {
        "id": "k5QfAYlKzEPb"
      },
      "source": [
        "# Importing the libraries"
      ]
    },
    {
      "cell_type": "code",
      "metadata": {
        "id": "Couj3ceWpMqZ"
      },
      "source": [
        "from sklearn.datasets import fetch_lfw_people\n",
        "import keras\n",
        "from sklearn.utils import shuffle\n",
        "from sklearn.model_selection import train_test_split\n",
        "import tensorflow as tf\n",
        "import keras.backend as K\n",
        "from math import *\n",
        "\n",
        "import matplotlib.pyplot as plt\n",
        "import matplotlib.patches as patches\n",
        "import numpy as np\n",
        "from keras.utils.np_utils import to_categorical\n",
        "\n",
        "## Setting the seeds for Reproducibility.\n",
        "seed = 3141\n",
        "np.random.seed(seed)\n",
        "\n",
        "import cv2\n",
        "import numpy as np\n",
        "import dlib\n",
        "\n",
        "#importing helpfull functions\n",
        "from utils import rearrange_arr, make_patchs, generate_triplets, dataset_config_doublet, dataset_config_triplet"
      ],
      "execution_count": null,
      "outputs": []
    },
    {
      "cell_type": "markdown",
      "metadata": {
        "id": "MHYTWXbFzKRq"
      },
      "source": [
        "# Importing the LFW dataset"
      ]
    },
    {
      "cell_type": "code",
      "metadata": {
        "id": "5llsb6_rr1a_"
      },
      "source": [
        "# Importing LFW dataset\n",
        "lfw_people = fetch_lfw_people(data_home='.', resize=1, min_faces_per_person=10, color=True)"
      ],
      "execution_count": null,
      "outputs": []
    },
    {
      "cell_type": "code",
      "metadata": {
        "id": "pZM_KTQ6qoEB"
      },
      "source": [
        "# introspect the images arrays to find the shapes (for plotting)\n",
        "n_samples, h, w, d = lfw_people.images.shape\n",
        "\n",
        "# for machine learning we use the 2 data directly\n",
        "X = lfw_people.data\n",
        "n_features = X.shape[1]\n",
        "\n",
        "# the label to predict is the id of the person\n",
        "y = lfw_people.target\n",
        "target_names = lfw_people.target_names\n",
        "n_classes = target_names.shape[0]"
      ],
      "execution_count": null,
      "outputs": []
    },
    {
      "cell_type": "code",
      "metadata": {
        "id": "0TFO_MQnrpW0"
      },
      "source": [
        "# input image dimensions\n",
        "X = X.reshape(n_samples, h, w, d)\n",
        "# Trasforming labels from str to categorical\n",
        "y = to_categorical(y)"
      ],
      "execution_count": null,
      "outputs": []
    },
    {
      "cell_type": "code",
      "metadata": {
        "id": "9OfK5OEfz_sV"
      },
      "source": [
        "patchs_train, patchs_test, patchs_validation, y_train, y_test, y_validation = make_patchs(X, y)"
      ],
      "execution_count": null,
      "outputs": []
    },
    {
      "cell_type": "markdown",
      "metadata": {
        "id": "MbKXy6yQCuuu"
      },
      "source": [
        "# Triplet network"
      ]
    },
    {
      "cell_type": "code",
      "metadata": {
        "id": "WwSlzqP2p02f"
      },
      "source": [
        "#Importing the necessary libraries for the training\n",
        "import torch\n",
        "from torch.optim import lr_scheduler\n",
        "import torch.optim as optim\n",
        "from torch.autograd import Variable\n",
        "\n",
        "# Set up the network and training parameters\n",
        "from networks import MultiPatch, TripletNet\n",
        "from losses import TripletLoss\n",
        "from trainer import fit\n",
        "from metrics import TripletMetric"
      ],
      "execution_count": null,
      "outputs": []
    },
    {
      "cell_type": "code",
      "metadata": {
        "id": "AdHgpDKDsAJV"
      },
      "source": [
        "Data_train_triplet, Data_val_triplet = dataset_config_triplet(patchs_train, patchs_validation, y_train, y_validation)"
      ],
      "execution_count": null,
      "outputs": []
    },
    {
      "cell_type": "code",
      "metadata": {
        "id": "ALJLt28XsAJW"
      },
      "source": [
        "batch_size=25\n",
        "cuda = torch.cuda.is_available()\n",
        "\n",
        "kwargs = {'num_workers': 1, 'pin_memory': True} if cuda else {}\n",
        "    triplet_train_loader_triplet = [torch.utils.data.DataLoader(Data_train_triplet[i], batch_size=batch_size, shuffle=True, **kwargs) for i in range(7)]\n",
        "    triplet_test_loader_triplet = [torch.utils.data.DataLoader(Data_val_triplet[i], batch_size=batch_size, shuffle=False, **kwargs) for i in range(7)]"
      ],
      "execution_count": null,
      "outputs": []
    },
    {
      "cell_type": "markdown",
      "metadata": {
        "id": "0LHrZ5cisAJW"
      },
      "source": [
        "Configuring the number of patches"
      ]
    },
    {
      "cell_type": "code",
      "metadata": {
        "id": "bW8yMXzhPQ_M"
      },
      "source": [
        "nb_patch = 7"
      ],
      "execution_count": null,
      "outputs": []
    },
    {
      "cell_type": "code",
      "metadata": {
        "id": "oLvITPzs6xM-"
      },
      "source": [
        "margin = 1.\n",
        "multi_patch = MultiPatch()\n",
        "model = TripletNet(multi_patch, nb_patch)\n",
        "del(multi_patch)\n",
        "if cuda:\n",
        "  model.cuda()\n",
        "loss_fn = TripletLoss(margin)\n",
        "#triplet_loss = torch.nn.TripletMarginLoss(margin=1.0, p=2)\n",
        "lr = 1e-3\n",
        "optimizer = optim.Adam(model.parameters(), lr=lr)\n",
        "scheduler = lr_scheduler.StepLR(optimizer, 8, gamma=0.1, last_epoch=-1)\n",
        "n_epochs = 50\n",
        "log_interval = 100"
      ],
      "execution_count": null,
      "outputs": []
    },
    {
      "cell_type": "markdown",
      "metadata": {
        "id": "4hFuztZ3sAJX"
      },
      "source": [
        "Training the model"
      ]
    },
    {
      "cell_type": "code",
      "metadata": {
        "colab": {
          "base_uri": "https://localhost:8080/"
        },
        "id": "yQwDvJlhEKfw",
        "outputId": "658cb0f8-16f8-4a06-ad33-92aa6a26852d"
      },
      "source": [
        "tr_loss, vl_loss, Acc_tr, Acc_vl = fit(triplet_train_loader, triplet_test_loader, model, loss_fn, optimizer, scheduler, n_epochs, cuda, log_interval, nb_patch = 7, margin = margin, metrics=[AccumulatedAccuracyMetric()])"
      ],
      "execution_count": null,
      "outputs": [
        {
          "output_type": "stream",
          "text": [
            "/usr/local/lib/python3.7/dist-packages/torch/optim/lr_scheduler.py:134: UserWarning: Detected call of `lr_scheduler.step()` before `optimizer.step()`. In PyTorch 1.1.0 and later, you should call them in the opposite order: `optimizer.step()` before `lr_scheduler.step()`.  Failure to do this will result in PyTorch skipping the first value of the learning rate schedule. See more details at https://pytorch.org/docs/stable/optim.html#how-to-adjust-learning-rate\n",
            "  \"https://pytorch.org/docs/stable/optim.html#how-to-adjust-learning-rate\", UserWarning)\n"
          ],
          "name": "stderr"
        },
        {
          "output_type": "stream",
          "text": [
            "Train: [0/2250 (0%)]\tLoss: 0.996859\tAccuracy: 0.0\n",
            "Epoch: 1/50. Train set: Average loss: 1.4938\tAccuracy: 0.30977777777777776\n",
            "Epoch: 1/50. Validation set: Average loss: 0.2333\tAccuracy: 0.6266666666666667\n",
            "Train: [0/2250 (0%)]\tLoss: 0.580722\tAccuracy: 0.52\n",
            "Epoch: 2/50. Train set: Average loss: 0.5636\tAccuracy: 0.44355555555555554\n",
            "Epoch: 2/50. Validation set: Average loss: 0.2684\tAccuracy: 0.7\n",
            "Train: [0/2250 (0%)]\tLoss: 0.321391\tAccuracy: 0.48\n",
            "Epoch: 3/50. Train set: Average loss: 0.3710\tAccuracy: 0.6346666666666667\n",
            "Epoch: 3/50. Validation set: Average loss: 0.1194\tAccuracy: 0.8933333333333333\n",
            "Train: [0/2250 (0%)]\tLoss: 0.174749\tAccuracy: 0.72\n",
            "Epoch: 4/50. Train set: Average loss: 0.2629\tAccuracy: 0.764\n",
            "Epoch: 4/50. Validation set: Average loss: 0.0775\tAccuracy: 0.9066666666666666\n",
            "Train: [0/2250 (0%)]\tLoss: 0.084947\tAccuracy: 0.88\n",
            "Epoch: 5/50. Train set: Average loss: 0.1733\tAccuracy: 0.8311111111111111\n",
            "Epoch: 5/50. Validation set: Average loss: 0.1014\tAccuracy: 0.8266666666666667\n",
            "Train: [0/2250 (0%)]\tLoss: 0.262641\tAccuracy: 0.6\n",
            "Epoch: 6/50. Train set: Average loss: 0.1459\tAccuracy: 0.8617777777777778\n",
            "Epoch: 6/50. Validation set: Average loss: 0.0966\tAccuracy: 0.9333333333333333\n",
            "Train: [0/2250 (0%)]\tLoss: 0.092950\tAccuracy: 0.92\n",
            "Epoch: 7/50. Train set: Average loss: 0.1416\tAccuracy: 0.8844444444444445\n",
            "Epoch: 7/50. Validation set: Average loss: 0.0673\tAccuracy: 0.9333333333333333\n",
            "Train: [0/2250 (0%)]\tLoss: 0.096707\tAccuracy: 0.92\n",
            "Epoch: 8/50. Train set: Average loss: 0.1003\tAccuracy: 0.9026666666666666\n",
            "Epoch: 8/50. Validation set: Average loss: 0.0557\tAccuracy: 0.9666666666666667\n",
            "Train: [0/2250 (0%)]\tLoss: 0.058567\tAccuracy: 0.96\n",
            "Epoch: 9/50. Train set: Average loss: 0.0618\tAccuracy: 0.9346666666666666\n",
            "Epoch: 9/50. Validation set: Average loss: 0.0530\tAccuracy: 0.9666666666666667\n",
            "Train: [0/2250 (0%)]\tLoss: 0.164637\tAccuracy: 0.92\n",
            "Epoch: 10/50. Train set: Average loss: 0.0569\tAccuracy: 0.9395555555555556\n",
            "Epoch: 10/50. Validation set: Average loss: 0.0448\tAccuracy: 0.9666666666666667\n",
            "Train: [0/2250 (0%)]\tLoss: 0.017212\tAccuracy: 0.92\n",
            "Epoch: 11/50. Train set: Average loss: 0.0314\tAccuracy: 0.9617777777777777\n",
            "Epoch: 11/50. Validation set: Average loss: 0.0477\tAccuracy: 0.9666666666666667\n",
            "Train: [0/2250 (0%)]\tLoss: 0.159844\tAccuracy: 0.88\n",
            "Epoch: 12/50. Train set: Average loss: 0.0426\tAccuracy: 0.9573333333333334\n",
            "Epoch: 12/50. Validation set: Average loss: 0.0500\tAccuracy: 0.9666666666666667\n",
            "Train: [0/2250 (0%)]\tLoss: 0.133479\tAccuracy: 0.96\n",
            "Epoch: 13/50. Train set: Average loss: 0.0408\tAccuracy: 0.9586666666666667\n",
            "Epoch: 13/50. Validation set: Average loss: 0.0446\tAccuracy: 0.9666666666666667\n",
            "Train: [0/2250 (0%)]\tLoss: 0.016549\tAccuracy: 0.96\n",
            "Epoch: 14/50. Train set: Average loss: 0.0425\tAccuracy: 0.9537777777777777\n",
            "Epoch: 14/50. Validation set: Average loss: 0.0387\tAccuracy: 0.9666666666666667\n",
            "Train: [0/2250 (0%)]\tLoss: 0.000000\tAccuracy: 1.0\n",
            "Epoch: 15/50. Train set: Average loss: 0.0392\tAccuracy: 0.9577777777777777\n",
            "Epoch: 15/50. Validation set: Average loss: 0.0458\tAccuracy: 0.96\n",
            "Train: [0/2250 (0%)]\tLoss: 0.000000\tAccuracy: 1.0\n",
            "Epoch: 16/50. Train set: Average loss: 0.0364\tAccuracy: 0.9648888888888889\n",
            "Epoch: 16/50. Validation set: Average loss: 0.0449\tAccuracy: 0.9666666666666667\n",
            "Train: [0/2250 (0%)]\tLoss: 0.000000\tAccuracy: 1.0\n",
            "Epoch: 17/50. Train set: Average loss: 0.0226\tAccuracy: 0.9702222222222222\n",
            "Epoch: 17/50. Validation set: Average loss: 0.0443\tAccuracy: 0.9666666666666667\n",
            "Train: [0/2250 (0%)]\tLoss: 0.017604\tAccuracy: 0.96\n",
            "Epoch: 18/50. Train set: Average loss: 0.0354\tAccuracy: 0.9631111111111111\n",
            "Epoch: 18/50. Validation set: Average loss: 0.0438\tAccuracy: 0.9666666666666667\n",
            "Train: [0/2250 (0%)]\tLoss: 0.000000\tAccuracy: 1.0\n",
            "Epoch: 19/50. Train set: Average loss: 0.0338\tAccuracy: 0.9657777777777777\n",
            "Epoch: 19/50. Validation set: Average loss: 0.0428\tAccuracy: 0.9666666666666667\n",
            "Train: [0/2250 (0%)]\tLoss: 0.000000\tAccuracy: 1.0\n",
            "Epoch: 20/50. Train set: Average loss: 0.0280\tAccuracy: 0.9653333333333334\n",
            "Epoch: 20/50. Validation set: Average loss: 0.0409\tAccuracy: 0.9666666666666667\n",
            "Train: [0/2250 (0%)]\tLoss: 0.000000\tAccuracy: 1.0\n",
            "Epoch: 21/50. Train set: Average loss: 0.0294\tAccuracy: 0.9724444444444444\n",
            "Epoch: 21/50. Validation set: Average loss: 0.0408\tAccuracy: 0.9666666666666667\n",
            "Train: [0/2250 (0%)]\tLoss: 0.015648\tAccuracy: 0.96\n",
            "Epoch: 22/50. Train set: Average loss: 0.0340\tAccuracy: 0.9666666666666667\n",
            "Epoch: 22/50. Validation set: Average loss: 0.0392\tAccuracy: 0.9666666666666667\n",
            "Train: [0/2250 (0%)]\tLoss: 0.002491\tAccuracy: 0.96\n",
            "Epoch: 23/50. Train set: Average loss: 0.0265\tAccuracy: 0.9693333333333334\n",
            "Epoch: 23/50. Validation set: Average loss: 0.0382\tAccuracy: 0.9666666666666667\n",
            "Train: [0/2250 (0%)]\tLoss: 0.000000\tAccuracy: 1.0\n",
            "Epoch: 24/50. Train set: Average loss: 0.0315\tAccuracy: 0.9631111111111111\n",
            "Epoch: 24/50. Validation set: Average loss: 0.0380\tAccuracy: 0.9666666666666667\n",
            "Train: [0/2250 (0%)]\tLoss: 0.000000\tAccuracy: 1.0\n",
            "Epoch: 25/50. Train set: Average loss: 0.0284\tAccuracy: 0.9657777777777777\n",
            "Epoch: 25/50. Validation set: Average loss: 0.0379\tAccuracy: 0.9666666666666667\n",
            "Train: [0/2250 (0%)]\tLoss: 0.000000\tAccuracy: 1.0\n",
            "Epoch: 26/50. Train set: Average loss: 0.0283\tAccuracy: 0.9684444444444444\n",
            "Epoch: 26/50. Validation set: Average loss: 0.0378\tAccuracy: 0.9666666666666667\n",
            "Train: [0/2250 (0%)]\tLoss: 0.153909\tAccuracy: 0.96\n",
            "Epoch: 27/50. Train set: Average loss: 0.0316\tAccuracy: 0.9671111111111111\n",
            "Epoch: 27/50. Validation set: Average loss: 0.0378\tAccuracy: 0.9666666666666667\n",
            "Train: [0/2250 (0%)]\tLoss: 0.000000\tAccuracy: 1.0\n",
            "Epoch: 28/50. Train set: Average loss: 0.0223\tAccuracy: 0.9724444444444444\n",
            "Epoch: 28/50. Validation set: Average loss: 0.0378\tAccuracy: 0.9666666666666667\n",
            "Train: [0/2250 (0%)]\tLoss: 0.030373\tAccuracy: 0.96\n",
            "Epoch: 29/50. Train set: Average loss: 0.0234\tAccuracy: 0.9715555555555555\n",
            "Epoch: 29/50. Validation set: Average loss: 0.0376\tAccuracy: 0.9666666666666667\n",
            "Train: [0/2250 (0%)]\tLoss: 0.000000\tAccuracy: 1.0\n",
            "Epoch: 30/50. Train set: Average loss: 0.0256\tAccuracy: 0.964\n",
            "Epoch: 30/50. Validation set: Average loss: 0.0378\tAccuracy: 0.9666666666666667\n",
            "Train: [0/2250 (0%)]\tLoss: 0.000000\tAccuracy: 1.0\n",
            "Epoch: 31/50. Train set: Average loss: 0.0272\tAccuracy: 0.964\n",
            "Epoch: 31/50. Validation set: Average loss: 0.0378\tAccuracy: 0.9666666666666667\n",
            "Train: [0/2250 (0%)]\tLoss: 0.014442\tAccuracy: 0.96\n",
            "Epoch: 32/50. Train set: Average loss: 0.0250\tAccuracy: 0.9697777777777777\n",
            "Epoch: 32/50. Validation set: Average loss: 0.0378\tAccuracy: 0.9666666666666667\n",
            "Train: [0/2250 (0%)]\tLoss: 0.039831\tAccuracy: 0.92\n",
            "Epoch: 33/50. Train set: Average loss: 0.0267\tAccuracy: 0.9644444444444444\n",
            "Epoch: 33/50. Validation set: Average loss: 0.0378\tAccuracy: 0.9666666666666667\n",
            "Train: [0/2250 (0%)]\tLoss: 0.000000\tAccuracy: 1.0\n",
            "Epoch: 34/50. Train set: Average loss: 0.0286\tAccuracy: 0.9657777777777777\n",
            "Epoch: 34/50. Validation set: Average loss: 0.0378\tAccuracy: 0.9666666666666667\n",
            "Train: [0/2250 (0%)]\tLoss: 0.000000\tAccuracy: 1.0\n",
            "Epoch: 35/50. Train set: Average loss: 0.0218\tAccuracy: 0.9733333333333334\n",
            "Epoch: 35/50. Validation set: Average loss: 0.0378\tAccuracy: 0.9666666666666667\n",
            "Train: [0/2250 (0%)]\tLoss: 0.054770\tAccuracy: 0.84\n",
            "Epoch: 36/50. Train set: Average loss: 0.0321\tAccuracy: 0.9666666666666667\n",
            "Epoch: 36/50. Validation set: Average loss: 0.0378\tAccuracy: 0.9666666666666667\n",
            "Train: [0/2250 (0%)]\tLoss: 0.000000\tAccuracy: 1.0\n",
            "Epoch: 37/50. Train set: Average loss: 0.0275\tAccuracy: 0.9711111111111111\n",
            "Epoch: 37/50. Validation set: Average loss: 0.0378\tAccuracy: 0.9666666666666667\n",
            "Train: [0/2250 (0%)]\tLoss: 0.000000\tAccuracy: 1.0\n",
            "Epoch: 38/50. Train set: Average loss: 0.0316\tAccuracy: 0.9657777777777777\n",
            "Epoch: 38/50. Validation set: Average loss: 0.0378\tAccuracy: 0.9666666666666667\n",
            "Train: [0/2250 (0%)]\tLoss: 0.000281\tAccuracy: 0.96\n",
            "Epoch: 39/50. Train set: Average loss: 0.0276\tAccuracy: 0.9684444444444444\n",
            "Epoch: 39/50. Validation set: Average loss: 0.0377\tAccuracy: 0.9666666666666667\n",
            "Train: [0/2250 (0%)]\tLoss: 0.022725\tAccuracy: 0.96\n",
            "Epoch: 40/50. Train set: Average loss: 0.0258\tAccuracy: 0.9724444444444444\n",
            "Epoch: 40/50. Validation set: Average loss: 0.0377\tAccuracy: 0.9666666666666667\n",
            "Train: [0/2250 (0%)]\tLoss: 0.000000\tAccuracy: 1.0\n",
            "Epoch: 41/50. Train set: Average loss: 0.0261\tAccuracy: 0.9688888888888889\n",
            "Epoch: 41/50. Validation set: Average loss: 0.0377\tAccuracy: 0.9666666666666667\n",
            "Train: [0/2250 (0%)]\tLoss: 0.029412\tAccuracy: 0.96\n",
            "Epoch: 42/50. Train set: Average loss: 0.0270\tAccuracy: 0.9684444444444444\n",
            "Epoch: 42/50. Validation set: Average loss: 0.0377\tAccuracy: 0.9666666666666667\n",
            "Train: [0/2250 (0%)]\tLoss: 0.035841\tAccuracy: 0.96\n",
            "Epoch: 43/50. Train set: Average loss: 0.0287\tAccuracy: 0.9657777777777777\n",
            "Epoch: 43/50. Validation set: Average loss: 0.0377\tAccuracy: 0.9666666666666667\n",
            "Train: [0/2250 (0%)]\tLoss: 0.056035\tAccuracy: 0.92\n",
            "Epoch: 44/50. Train set: Average loss: 0.0220\tAccuracy: 0.9697777777777777\n",
            "Epoch: 44/50. Validation set: Average loss: 0.0377\tAccuracy: 0.9666666666666667\n",
            "Train: [0/2250 (0%)]\tLoss: 0.016984\tAccuracy: 0.96\n",
            "Epoch: 45/50. Train set: Average loss: 0.0274\tAccuracy: 0.9671111111111111\n",
            "Epoch: 45/50. Validation set: Average loss: 0.0377\tAccuracy: 0.9666666666666667\n",
            "Train: [0/2250 (0%)]\tLoss: 0.000000\tAccuracy: 1.0\n",
            "Epoch: 46/50. Train set: Average loss: 0.0343\tAccuracy: 0.9648888888888889\n",
            "Epoch: 46/50. Validation set: Average loss: 0.0377\tAccuracy: 0.9666666666666667\n",
            "Train: [0/2250 (0%)]\tLoss: 0.000000\tAccuracy: 1.0\n",
            "Epoch: 47/50. Train set: Average loss: 0.0235\tAccuracy: 0.9711111111111111\n",
            "Epoch: 47/50. Validation set: Average loss: 0.0377\tAccuracy: 0.9666666666666667\n",
            "Train: [0/2250 (0%)]\tLoss: 0.036880\tAccuracy: 0.96\n",
            "Epoch: 48/50. Train set: Average loss: 0.0227\tAccuracy: 0.9697777777777777\n",
            "Epoch: 48/50. Validation set: Average loss: 0.0377\tAccuracy: 0.9666666666666667\n",
            "Train: [0/2250 (0%)]\tLoss: 0.000000\tAccuracy: 1.0\n",
            "Epoch: 49/50. Train set: Average loss: 0.0264\tAccuracy: 0.9702222222222222\n",
            "Epoch: 49/50. Validation set: Average loss: 0.0377\tAccuracy: 0.9666666666666667\n",
            "Train: [0/2250 (0%)]\tLoss: 0.000000\tAccuracy: 1.0\n",
            "Epoch: 50/50. Train set: Average loss: 0.0317\tAccuracy: 0.9671111111111111\n",
            "Epoch: 50/50. Validation set: Average loss: 0.0377\tAccuracy: 0.9666666666666667\n"
          ],
          "name": "stdout"
        }
      ]
    },
    {
      "cell_type": "markdown",
      "metadata": {
        "id": "RxG3IW-csAJZ"
      },
      "source": [
        " Saving the model weights"
      ]
    },
    {
      "cell_type": "code",
      "metadata": {
        "id": "Tz1ZNLB9bq2V"
      },
      "source": [
        "torch.save(model.state_dict(), 'triplet_lfw_'+str(nb_patch))"
      ],
      "execution_count": null,
      "outputs": []
    },
    {
      "cell_type": "markdown",
      "metadata": {
        "id": "sQrIQDyzsAJZ"
      },
      "source": [
        "Saving the Loss and Accuracy for each epoch"
      ]
    },
    {
      "cell_type": "code",
      "metadata": {
        "id": "KcdnD-6JEQEo"
      },
      "source": [
        "np.save(\"loss_tr_lfw_\"+str(nb_patch), tr_loss)\n",
        "np.save(\"loss_vl_lfw_\"+str(nb_patch), vl_loss)\n",
        "np.save(\"acc_tr_lfw_\"+str(nb_patch), Acc_tr)\n",
        "np.save(\"acc_vl_lfw_\"+str(nb_patch), Acc_vl)"
      ],
      "execution_count": null,
      "outputs": []
    },
    {
      "cell_type": "markdown",
      "metadata": {
        "id": "qJsattX6sAJZ"
      },
      "source": [
        "Visualizing the results"
      ]
    },
    {
      "cell_type": "code",
      "metadata": {
        "colab": {
          "base_uri": "https://localhost:8080/",
          "height": 509
        },
        "id": "fwkpvpAFXW1j",
        "outputId": "9eb8b93c-3271-47de-fdd4-7026668cd42f"
      },
      "source": [
        "X = range(1, 51)\n",
        "fig, ax1 = plt.subplots()\n",
        "plt.rcParams[\"figure.figsize\"] = (10, 7)\n",
        "plt.rcParams.update({'font.size': 12})\n",
        "plt.title('Loss and Accuracy for '+str(nb_patch)+' patch LFW')\n",
        "color = 'tab:red'\n",
        "ax1.set_xlabel('Epochs')\n",
        "ax1.set_ylabel(\"Loss\", color=color)\n",
        "ax1.plot(list(X), tr_loss,'.-', label='train', color = 'lightcoral')\n",
        "ax1.plot(list(X), vl_loss,'.-', label='validation', color = 'darkred')\n",
        "ax1.tick_params(axis='y', labelcolor=color)\n",
        "\n",
        "ax2 = ax1.twinx()  # instantiate a second axes that shares the same x-axis\n",
        "\n",
        "color = 'tab:blue'\n",
        "ax2.set_ylabel('Accuracy', color=color)  # we already handled the x-label with ax1\n",
        "ax2.plot(list(X), Acc_tr, '.-', label='train', color = 'cornflowerblue')\n",
        "ax2.plot(list(X), Acc_vl, '.-', label='validation', color = 'navy')\n",
        "ax2.tick_params(axis='y', labelcolor=color)\n",
        "ax2.set_yticks([i/20 for i in range(21) ])\n",
        "fig.tight_layout()  # otherwise the right y-label is slightly clipped\n",
        "plt.show()"
      ],
      "execution_count": null,
      "outputs": [
        {
          "output_type": "display_data",
          "data": {
            "image/png": "[encoded data removed]",
            "text/plain": [
              "<Figure size 720x504 with 2 Axes>"
            ]
          },
          "metadata": {
            "tags": [],
            "needs_background": "light"
          }
        }
      ]
    },
    {
      "cell_type": "markdown",
      "metadata": {
        "id": "ttc0J7NcsXfH"
      },
      "source": [
        "# Siamese network\n"
      ]
    },
    {
      "cell_type": "code",
      "metadata": {
        "id": "bwvwnkCjsopN"
      },
      "source": [
        "Data_train_doublet, Data_val_doublet = dataset_config_triplet(patchs_train, patchs_validation, y_train, y_validation)"
      ],
      "execution_count": null,
      "outputs": []
    },
    {
      "cell_type": "code",
      "metadata": {
        "id": "jv4DvFucCuuu"
      },
      "source": [
        "batch_size = 25\n",
        "kwargs = {'num_workers': 1, 'pin_memory': True} if cuda else {}\n",
        "triplet_train_loader_doublet = [torch.utils.data.DataLoader(Data_train_doublet[i], batch_size=batch_size, shuffle=True, **kwargs) for i in range(7)]\n",
        "triplet_test_loader_doublet = [torch.utils.data.DataLoader(Data_val_doublet[i], batch_size=batch_size, shuffle=False, **kwargs) for i in range(7)]"
      ],
      "execution_count": null,
      "outputs": []
    },
    {
      "cell_type": "code",
      "metadata": {
        "id": "HUoDW03msXfL"
      },
      "source": [
        "# Set up the network and training parameters\n",
        "from networks import MultiPatch, SiameseNet\n",
        "from losses import ContrastiveLoss\n",
        "from trainer import fit\n",
        "from metrics import ContrastiveMetric"
      ],
      "execution_count": null,
      "outputs": []
    },
    {
      "cell_type": "code",
      "metadata": {
        "id": "m9_DTtOPsXfM"
      },
      "source": [
        "nb_patch = 7"
      ],
      "execution_count": null,
      "outputs": []
    },
    {
      "cell_type": "code",
      "metadata": {
        "id": "u9F8yfowsXfM"
      },
      "source": [
        "margin = 1.\n",
        "multi_patch = MultiPatch()\n",
        "model = SiameseNet(multi_patch, nb_patch = nb_patch)\n",
        "del(multi_patch)\n",
        "if cuda:\n",
        "  model.cuda()\n",
        "loss_fn = ContrastiveLoss(margin)\n",
        "#triplet_loss = torch.nn.TripletMarginLoss(margin=1.0, p=2)\n",
        "lr = 1e-3\n",
        "optimizer = optim.Adam(model.parameters(), lr=lr)\n",
        "scheduler = lr_scheduler.StepLR(optimizer, 8, gamma=0.1, last_epoch=-1)\n",
        "n_epochs = 50\n",
        "log_interval = 100"
      ],
      "execution_count": null,
      "outputs": []
    },
    {
      "cell_type": "code",
      "metadata": {
        "colab": {
          "base_uri": "https://localhost:8080/"
        },
        "id": "GwN1okPWUCMG",
        "outputId": "ea96a8e1-ad60-42a9-cfb2-634d69c2da13"
      },
      "source": [
        "tr_loss, vl_loss, Acc_tr, Acc_vl = fit(triplet_train_loader, triplet_test_loader, model, loss_fn, optimizer, scheduler, n_epochs, cuda, log_interval, nb_patch = nb_patch, margin = margin, metrics=[ContrastiveMetric()])"
      ],
      "execution_count": null,
      "outputs": [
        {
          "output_type": "stream",
          "text": [
            "/usr/local/lib/python3.7/dist-packages/torch/optim/lr_scheduler.py:134: UserWarning: Detected call of `lr_scheduler.step()` before `optimizer.step()`. In PyTorch 1.1.0 and later, you should call them in the opposite order: `optimizer.step()` before `lr_scheduler.step()`.  Failure to do this will result in PyTorch skipping the first value of the learning rate schedule. See more details at https://pytorch.org/docs/stable/optim.html#how-to-adjust-learning-rate\n",
            "  \"https://pytorch.org/docs/stable/optim.html#how-to-adjust-learning-rate\", UserWarning)\n"
          ],
          "name": "stderr"
        },
        {
          "output_type": "stream",
          "text": [
            "Train: [0/3000 (0%)]\tLoss: 0.152470\tAccuracy: 0.6\n",
            "Train: [2500/3000 (83%)]\tLoss: 2.509177\tAccuracy: 0.5247524752475248\n",
            "Epoch: 1/50. Train set: Average loss: 2.1139\tAccuracy: 0.5226666666666666\n",
            "Epoch: 1/50. Validation set: Average loss: 0.0951\tAccuracy: 0.565\n",
            "Train: [0/3000 (0%)]\tLoss: 0.133215\tAccuracy: 0.56\n",
            "Train: [2500/3000 (83%)]\tLoss: 0.127674\tAccuracy: 0.5295049504950495\n",
            "Epoch: 2/50. Train set: Average loss: 0.1275\tAccuracy: 0.532\n",
            "Epoch: 2/50. Validation set: Average loss: 0.1153\tAccuracy: 0.51\n",
            "Train: [0/3000 (0%)]\tLoss: 0.128032\tAccuracy: 0.52\n",
            "Train: [2500/3000 (83%)]\tLoss: 0.120452\tAccuracy: 0.5413861386138614\n",
            "Epoch: 3/50. Train set: Average loss: 0.1211\tAccuracy: 0.5413333333333333\n",
            "Epoch: 3/50. Validation set: Average loss: 0.1135\tAccuracy: 0.51\n",
            "Train: [0/3000 (0%)]\tLoss: 0.137109\tAccuracy: 0.36\n",
            "Train: [2500/3000 (83%)]\tLoss: 0.121311\tAccuracy: 0.5386138613861386\n",
            "Epoch: 4/50. Train set: Average loss: 0.1184\tAccuracy: 0.5483333333333333\n",
            "Epoch: 4/50. Validation set: Average loss: 0.0898\tAccuracy: 0.595\n",
            "Train: [0/3000 (0%)]\tLoss: 0.114585\tAccuracy: 0.56\n",
            "Train: [2500/3000 (83%)]\tLoss: 0.110477\tAccuracy: 0.5782178217821782\n",
            "Epoch: 5/50. Train set: Average loss: 0.1113\tAccuracy: 0.58\n",
            "Epoch: 5/50. Validation set: Average loss: 0.1083\tAccuracy: 0.51\n",
            "Train: [0/3000 (0%)]\tLoss: 0.089980\tAccuracy: 0.64\n",
            "Train: [2500/3000 (83%)]\tLoss: 0.104435\tAccuracy: 0.5956435643564356\n",
            "Epoch: 6/50. Train set: Average loss: 0.1037\tAccuracy: 0.602\n",
            "Epoch: 6/50. Validation set: Average loss: 0.0840\tAccuracy: 0.595\n",
            "Train: [0/3000 (0%)]\tLoss: 0.121082\tAccuracy: 0.44\n",
            "Train: [2500/3000 (83%)]\tLoss: 0.099671\tAccuracy: 0.6071287128712871\n",
            "Epoch: 7/50. Train set: Average loss: 0.0992\tAccuracy: 0.6156666666666667\n",
            "Epoch: 7/50. Validation set: Average loss: 0.1073\tAccuracy: 0.525\n",
            "Train: [0/3000 (0%)]\tLoss: 0.084688\tAccuracy: 0.6\n",
            "Train: [2500/3000 (83%)]\tLoss: 0.091644\tAccuracy: 0.6304950495049505\n",
            "Epoch: 8/50. Train set: Average loss: 0.0909\tAccuracy: 0.6363333333333333\n",
            "Epoch: 8/50. Validation set: Average loss: 0.0765\tAccuracy: 0.63\n",
            "Train: [0/3000 (0%)]\tLoss: 0.097695\tAccuracy: 0.6\n",
            "Train: [2500/3000 (83%)]\tLoss: 0.087958\tAccuracy: 0.6673267326732674\n",
            "Epoch: 9/50. Train set: Average loss: 0.0875\tAccuracy: 0.665\n",
            "Epoch: 9/50. Validation set: Average loss: 0.0805\tAccuracy: 0.61\n",
            "Train: [0/3000 (0%)]\tLoss: 0.078191\tAccuracy: 0.72\n",
            "Train: [2500/3000 (83%)]\tLoss: 0.084921\tAccuracy: 0.6752475247524753\n",
            "Epoch: 10/50. Train set: Average loss: 0.0853\tAccuracy: 0.6713333333333333\n",
            "Epoch: 10/50. Validation set: Average loss: 0.0746\tAccuracy: 0.64\n",
            "Train: [0/3000 (0%)]\tLoss: 0.074730\tAccuracy: 0.72\n",
            "Train: [2500/3000 (83%)]\tLoss: 0.083582\tAccuracy: 0.6823762376237624\n",
            "Epoch: 11/50. Train set: Average loss: 0.0840\tAccuracy: 0.681\n",
            "Epoch: 11/50. Validation set: Average loss: 0.0746\tAccuracy: 0.625\n",
            "Train: [0/3000 (0%)]\tLoss: 0.048331\tAccuracy: 0.84\n",
            "Train: [2500/3000 (83%)]\tLoss: 0.082743\tAccuracy: 0.685940594059406\n",
            "Epoch: 12/50. Train set: Average loss: 0.0824\tAccuracy: 0.6876666666666666\n",
            "Epoch: 12/50. Validation set: Average loss: 0.0764\tAccuracy: 0.625\n",
            "Train: [0/3000 (0%)]\tLoss: 0.072588\tAccuracy: 0.76\n",
            "Train: [2500/3000 (83%)]\tLoss: 0.081119\tAccuracy: 0.685940594059406\n",
            "Epoch: 13/50. Train set: Average loss: 0.0808\tAccuracy: 0.689\n",
            "Epoch: 13/50. Validation set: Average loss: 0.0760\tAccuracy: 0.615\n",
            "Train: [0/3000 (0%)]\tLoss: 0.085833\tAccuracy: 0.64\n",
            "Train: [2500/3000 (83%)]\tLoss: 0.079376\tAccuracy: 0.6883168316831683\n",
            "Epoch: 14/50. Train set: Average loss: 0.0793\tAccuracy: 0.6926666666666667\n",
            "Epoch: 14/50. Validation set: Average loss: 0.0730\tAccuracy: 0.63\n",
            "Train: [0/3000 (0%)]\tLoss: 0.088016\tAccuracy: 0.68\n",
            "Train: [2500/3000 (83%)]\tLoss: 0.077513\tAccuracy: 0.7045544554455445\n",
            "Epoch: 15/50. Train set: Average loss: 0.0782\tAccuracy: 0.7056666666666667\n",
            "Epoch: 15/50. Validation set: Average loss: 0.0750\tAccuracy: 0.63\n",
            "Train: [0/3000 (0%)]\tLoss: 0.076516\tAccuracy: 0.76\n",
            "Train: [2500/3000 (83%)]\tLoss: 0.076828\tAccuracy: 0.7053465346534653\n",
            "Epoch: 16/50. Train set: Average loss: 0.0758\tAccuracy: 0.7073333333333334\n",
            "Epoch: 16/50. Validation set: Average loss: 0.0736\tAccuracy: 0.635\n",
            "Train: [0/3000 (0%)]\tLoss: 0.094210\tAccuracy: 0.76\n",
            "Train: [2500/3000 (83%)]\tLoss: 0.075909\tAccuracy: 0.7108910891089109\n",
            "Epoch: 17/50. Train set: Average loss: 0.0754\tAccuracy: 0.715\n",
            "Epoch: 17/50. Validation set: Average loss: 0.0735\tAccuracy: 0.635\n",
            "Train: [0/3000 (0%)]\tLoss: 0.058481\tAccuracy: 0.84\n",
            "Train: [2500/3000 (83%)]\tLoss: 0.075382\tAccuracy: 0.7128712871287128\n",
            "Epoch: 18/50. Train set: Average loss: 0.0751\tAccuracy: 0.7136666666666667\n",
            "Epoch: 18/50. Validation set: Average loss: 0.0733\tAccuracy: 0.635\n",
            "Train: [0/3000 (0%)]\tLoss: 0.090466\tAccuracy: 0.68\n",
            "Train: [2500/3000 (83%)]\tLoss: 0.075044\tAccuracy: 0.7172277227722772\n",
            "Epoch: 19/50. Train set: Average loss: 0.0749\tAccuracy: 0.7143333333333334\n",
            "Epoch: 19/50. Validation set: Average loss: 0.0728\tAccuracy: 0.64\n",
            "Train: [0/3000 (0%)]\tLoss: 0.048418\tAccuracy: 0.84\n",
            "Train: [2500/3000 (83%)]\tLoss: 0.073746\tAccuracy: 0.7235643564356435\n",
            "Epoch: 20/50. Train set: Average loss: 0.0747\tAccuracy: 0.7226666666666667\n",
            "Epoch: 20/50. Validation set: Average loss: 0.0737\tAccuracy: 0.635\n",
            "Train: [0/3000 (0%)]\tLoss: 0.067528\tAccuracy: 0.76\n",
            "Train: [2500/3000 (83%)]\tLoss: 0.074274\tAccuracy: 0.7148514851485148\n",
            "Epoch: 21/50. Train set: Average loss: 0.0746\tAccuracy: 0.7133333333333334\n",
            "Epoch: 21/50. Validation set: Average loss: 0.0727\tAccuracy: 0.64\n",
            "Train: [0/3000 (0%)]\tLoss: 0.053379\tAccuracy: 0.84\n",
            "Train: [2500/3000 (83%)]\tLoss: 0.073705\tAccuracy: 0.721980198019802\n",
            "Epoch: 22/50. Train set: Average loss: 0.0743\tAccuracy: 0.7173333333333334\n",
            "Epoch: 22/50. Validation set: Average loss: 0.0720\tAccuracy: 0.64\n",
            "Train: [0/3000 (0%)]\tLoss: 0.053413\tAccuracy: 0.72\n",
            "Train: [2500/3000 (83%)]\tLoss: 0.074814\tAccuracy: 0.7196039603960396\n",
            "Epoch: 23/50. Train set: Average loss: 0.0742\tAccuracy: 0.7216666666666667\n",
            "Epoch: 23/50. Validation set: Average loss: 0.0726\tAccuracy: 0.64\n",
            "Train: [0/3000 (0%)]\tLoss: 0.059229\tAccuracy: 0.76\n",
            "Train: [2500/3000 (83%)]\tLoss: 0.073764\tAccuracy: 0.718019801980198\n",
            "Epoch: 24/50. Train set: Average loss: 0.0738\tAccuracy: 0.719\n",
            "Epoch: 24/50. Validation set: Average loss: 0.0724\tAccuracy: 0.64\n",
            "Train: [0/3000 (0%)]\tLoss: 0.063260\tAccuracy: 0.84\n",
            "Train: [2500/3000 (83%)]\tLoss: 0.073613\tAccuracy: 0.718019801980198\n",
            "Epoch: 25/50. Train set: Average loss: 0.0738\tAccuracy: 0.72\n",
            "Epoch: 25/50. Validation set: Average loss: 0.0723\tAccuracy: 0.64\n",
            "Train: [0/3000 (0%)]\tLoss: 0.073259\tAccuracy: 0.72\n",
            "Train: [2500/3000 (83%)]\tLoss: 0.074118\tAccuracy: 0.7215841584158416\n",
            "Epoch: 26/50. Train set: Average loss: 0.0738\tAccuracy: 0.7216666666666667\n",
            "Epoch: 26/50. Validation set: Average loss: 0.0722\tAccuracy: 0.64\n",
            "Train: [0/3000 (0%)]\tLoss: 0.069656\tAccuracy: 0.84\n",
            "Train: [2500/3000 (83%)]\tLoss: 0.074571\tAccuracy: 0.7156435643564356\n",
            "Epoch: 27/50. Train set: Average loss: 0.0737\tAccuracy: 0.7213333333333334\n",
            "Epoch: 27/50. Validation set: Average loss: 0.0721\tAccuracy: 0.64\n",
            "Train: [0/3000 (0%)]\tLoss: 0.076203\tAccuracy: 0.64\n",
            "Train: [2500/3000 (83%)]\tLoss: 0.073964\tAccuracy: 0.7235643564356435\n",
            "Epoch: 28/50. Train set: Average loss: 0.0737\tAccuracy: 0.7216666666666667\n",
            "Epoch: 28/50. Validation set: Average loss: 0.0721\tAccuracy: 0.64\n",
            "Train: [0/3000 (0%)]\tLoss: 0.078744\tAccuracy: 0.72\n",
            "Train: [2500/3000 (83%)]\tLoss: 0.073322\tAccuracy: 0.7243564356435643\n",
            "Epoch: 29/50. Train set: Average loss: 0.0737\tAccuracy: 0.7213333333333334\n",
            "Epoch: 29/50. Validation set: Average loss: 0.0720\tAccuracy: 0.645\n",
            "Train: [0/3000 (0%)]\tLoss: 0.061246\tAccuracy: 0.84\n",
            "Train: [2500/3000 (83%)]\tLoss: 0.073580\tAccuracy: 0.7215841584158416\n",
            "Epoch: 30/50. Train set: Average loss: 0.0737\tAccuracy: 0.7216666666666667\n",
            "Epoch: 30/50. Validation set: Average loss: 0.0720\tAccuracy: 0.645\n",
            "Train: [0/3000 (0%)]\tLoss: 0.078924\tAccuracy: 0.68\n",
            "Train: [2500/3000 (83%)]\tLoss: 0.073295\tAccuracy: 0.7275247524752475\n",
            "Epoch: 31/50. Train set: Average loss: 0.0737\tAccuracy: 0.7226666666666667\n",
            "Epoch: 31/50. Validation set: Average loss: 0.0719\tAccuracy: 0.645\n",
            "Train: [0/3000 (0%)]\tLoss: 0.087835\tAccuracy: 0.68\n",
            "Train: [2500/3000 (83%)]\tLoss: 0.073089\tAccuracy: 0.7279207920792079\n",
            "Epoch: 32/50. Train set: Average loss: 0.0736\tAccuracy: 0.722\n",
            "Epoch: 32/50. Validation set: Average loss: 0.0719\tAccuracy: 0.645\n",
            "Train: [0/3000 (0%)]\tLoss: 0.080688\tAccuracy: 0.56\n",
            "Train: [2500/3000 (83%)]\tLoss: 0.074055\tAccuracy: 0.7184158415841584\n",
            "Epoch: 33/50. Train set: Average loss: 0.0736\tAccuracy: 0.7223333333333334\n",
            "Epoch: 33/50. Validation set: Average loss: 0.0719\tAccuracy: 0.645\n",
            "Train: [0/3000 (0%)]\tLoss: 0.072300\tAccuracy: 0.64\n",
            "Train: [2500/3000 (83%)]\tLoss: 0.073553\tAccuracy: 0.7215841584158416\n",
            "Epoch: 34/50. Train set: Average loss: 0.0736\tAccuracy: 0.722\n",
            "Epoch: 34/50. Validation set: Average loss: 0.0719\tAccuracy: 0.645\n",
            "Train: [0/3000 (0%)]\tLoss: 0.090389\tAccuracy: 0.56\n",
            "Train: [2500/3000 (83%)]\tLoss: 0.072830\tAccuracy: 0.7192079207920792\n",
            "Epoch: 35/50. Train set: Average loss: 0.0736\tAccuracy: 0.723\n",
            "Epoch: 35/50. Validation set: Average loss: 0.0719\tAccuracy: 0.645\n",
            "Train: [0/3000 (0%)]\tLoss: 0.076327\tAccuracy: 0.68\n",
            "Train: [2500/3000 (83%)]\tLoss: 0.073632\tAccuracy: 0.72\n",
            "Epoch: 36/50. Train set: Average loss: 0.0736\tAccuracy: 0.723\n",
            "Epoch: 36/50. Validation set: Average loss: 0.0719\tAccuracy: 0.645\n",
            "Train: [0/3000 (0%)]\tLoss: 0.083373\tAccuracy: 0.72\n",
            "Train: [2500/3000 (83%)]\tLoss: 0.073082\tAccuracy: 0.7271287128712871\n",
            "Epoch: 37/50. Train set: Average loss: 0.0736\tAccuracy: 0.7216666666666667\n",
            "Epoch: 37/50. Validation set: Average loss: 0.0719\tAccuracy: 0.645\n",
            "Train: [0/3000 (0%)]\tLoss: 0.080978\tAccuracy: 0.68\n",
            "Train: [2500/3000 (83%)]\tLoss: 0.073764\tAccuracy: 0.7235643564356435\n",
            "Epoch: 38/50. Train set: Average loss: 0.0736\tAccuracy: 0.722\n",
            "Epoch: 38/50. Validation set: Average loss: 0.0719\tAccuracy: 0.645\n",
            "Train: [0/3000 (0%)]\tLoss: 0.086539\tAccuracy: 0.64\n",
            "Train: [2500/3000 (83%)]\tLoss: 0.074262\tAccuracy: 0.7203960396039604\n",
            "Epoch: 39/50. Train set: Average loss: 0.0736\tAccuracy: 0.722\n",
            "Epoch: 39/50. Validation set: Average loss: 0.0719\tAccuracy: 0.645\n",
            "Train: [0/3000 (0%)]\tLoss: 0.077819\tAccuracy: 0.68\n",
            "Train: [2500/3000 (83%)]\tLoss: 0.074248\tAccuracy: 0.7247524752475247\n",
            "Epoch: 40/50. Train set: Average loss: 0.0736\tAccuracy: 0.722\n",
            "Epoch: 40/50. Validation set: Average loss: 0.0719\tAccuracy: 0.645\n",
            "Train: [0/3000 (0%)]\tLoss: 0.100768\tAccuracy: 0.64\n",
            "Train: [2500/3000 (83%)]\tLoss: 0.072324\tAccuracy: 0.7267326732673267\n",
            "Epoch: 41/50. Train set: Average loss: 0.0736\tAccuracy: 0.7226666666666667\n",
            "Epoch: 41/50. Validation set: Average loss: 0.0719\tAccuracy: 0.645\n",
            "Train: [0/3000 (0%)]\tLoss: 0.066207\tAccuracy: 0.76\n",
            "Train: [2500/3000 (83%)]\tLoss: 0.073125\tAccuracy: 0.7211881188118812\n",
            "Epoch: 42/50. Train set: Average loss: 0.0736\tAccuracy: 0.723\n",
            "Epoch: 42/50. Validation set: Average loss: 0.0719\tAccuracy: 0.645\n",
            "Train: [0/3000 (0%)]\tLoss: 0.071211\tAccuracy: 0.76\n",
            "Train: [2500/3000 (83%)]\tLoss: 0.074020\tAccuracy: 0.7231683168316831\n",
            "Epoch: 43/50. Train set: Average loss: 0.0736\tAccuracy: 0.722\n",
            "Epoch: 43/50. Validation set: Average loss: 0.0719\tAccuracy: 0.645\n",
            "Train: [0/3000 (0%)]\tLoss: 0.051573\tAccuracy: 0.84\n",
            "Train: [2500/3000 (83%)]\tLoss: 0.073118\tAccuracy: 0.7243564356435643\n",
            "Epoch: 44/50. Train set: Average loss: 0.0736\tAccuracy: 0.7226666666666667\n",
            "Epoch: 44/50. Validation set: Average loss: 0.0719\tAccuracy: 0.645\n",
            "Train: [0/3000 (0%)]\tLoss: 0.079198\tAccuracy: 0.84\n",
            "Train: [2500/3000 (83%)]\tLoss: 0.073783\tAccuracy: 0.7223762376237624\n",
            "Epoch: 45/50. Train set: Average loss: 0.0736\tAccuracy: 0.7223333333333334\n",
            "Epoch: 45/50. Validation set: Average loss: 0.0719\tAccuracy: 0.645\n",
            "Train: [0/3000 (0%)]\tLoss: 0.080163\tAccuracy: 0.72\n",
            "Train: [2500/3000 (83%)]\tLoss: 0.072960\tAccuracy: 0.7243564356435643\n",
            "Epoch: 46/50. Train set: Average loss: 0.0736\tAccuracy: 0.7226666666666667\n",
            "Epoch: 46/50. Validation set: Average loss: 0.0719\tAccuracy: 0.645\n",
            "Train: [0/3000 (0%)]\tLoss: 0.074480\tAccuracy: 0.72\n",
            "Train: [2500/3000 (83%)]\tLoss: 0.072922\tAccuracy: 0.7231683168316831\n",
            "Epoch: 47/50. Train set: Average loss: 0.0736\tAccuracy: 0.7226666666666667\n",
            "Epoch: 47/50. Validation set: Average loss: 0.0719\tAccuracy: 0.645\n",
            "Train: [0/3000 (0%)]\tLoss: 0.052380\tAccuracy: 0.84\n",
            "Train: [2500/3000 (83%)]\tLoss: 0.073152\tAccuracy: 0.7223762376237624\n",
            "Epoch: 48/50. Train set: Average loss: 0.0736\tAccuracy: 0.722\n",
            "Epoch: 48/50. Validation set: Average loss: 0.0719\tAccuracy: 0.645\n",
            "Train: [0/3000 (0%)]\tLoss: 0.066417\tAccuracy: 0.8\n",
            "Train: [2500/3000 (83%)]\tLoss: 0.073955\tAccuracy: 0.7295049504950495\n",
            "Epoch: 49/50. Train set: Average loss: 0.0736\tAccuracy: 0.723\n",
            "Epoch: 49/50. Validation set: Average loss: 0.0719\tAccuracy: 0.645\n",
            "Train: [0/3000 (0%)]\tLoss: 0.084434\tAccuracy: 0.52\n",
            "Train: [2500/3000 (83%)]\tLoss: 0.072954\tAccuracy: 0.7247524752475247\n",
            "Epoch: 50/50. Train set: Average loss: 0.0736\tAccuracy: 0.7223333333333334\n",
            "Epoch: 50/50. Validation set: Average loss: 0.0719\tAccuracy: 0.645\n"
          ],
          "name": "stdout"
        }
      ]
    },
    {
      "cell_type": "code",
      "metadata": {
        "id": "DSneWSFTsXfO"
      },
      "source": [
        "np.save(\"loss_tr_siamese_lfw_\"+str(nb_patch), tr_loss)\n",
        "np.save(\"loss_vl_siamese_lfw_\"+str(nb_patch), vl_loss)\n",
        "np.save(\"acc_tr_siamese_lfw_\"+str(nb_patch), Acc_tr)\n",
        "np.save(\"acc_vl_siamese_lfw_\"+str(nb_patch), Acc_vl)"
      ],
      "execution_count": null,
      "outputs": []
    },
    {
      "cell_type": "code",
      "metadata": {
        "id": "kLXznfGHXTiW",
        "colab": {
          "base_uri": "https://localhost:8080/",
          "height": 509
        },
        "outputId": "19841e6f-cb8c-4df5-f533-bab4c55d1a73"
      },
      "source": [
        "X = range(1, 51)\n",
        "fig, ax1 = plt.subplots()\n",
        "plt.rcParams[\"figure.figsize\"] = (10, 7)\n",
        "plt.rcParams.update({'font.size': 12})\n",
        "plt.title('Loss and Accuracy for '+str(nb_patch) +' patch LFW (Siamese)')\n",
        "color = 'tab:red'\n",
        "ax1.set_xlabel('Epochs')\n",
        "ax1.set_ylabel(\"Loss\", color=color)\n",
        "ax1.plot(list(X), tr_loss,'.-', label='train', color = 'lightcoral')\n",
        "ax1.plot(list(X), vl_loss,'.-', label='validation', color = 'darkred')\n",
        "ax1.tick_params(axis='y', labelcolor=color)\n",
        "\n",
        "ax2 = ax1.twinx()  # instantiate a second axes that shares the same x-axis\n",
        "\n",
        "color = 'tab:blue'\n",
        "ax2.set_ylabel('Accuracy', color=color)  # we already handled the x-label with ax1\n",
        "ax2.plot(list(X), Acc_tr, '.-', label='train', color = 'cornflowerblue')\n",
        "ax2.plot(list(X), Acc_vl, '.-', label='validation', color = 'navy')\n",
        "ax2.tick_params(axis='y', labelcolor=color)\n",
        "ax2.set_yticks([i/20 for i in range(21) ])\n",
        "fig.tight_layout()  # otherwise the right y-label is slightly clipped\n",
        "plt.show()"
      ],
      "execution_count": null,
      "outputs": [
        {
          "output_type": "display_data",
          "data": {
            "image/png": "[encoded data removed]",
            "text/plain": [
              "<Figure size 720x504 with 2 Axes>"
            ]
          },
          "metadata": {
            "tags": [],
            "needs_background": "light"
          }
        }
      ]
    }
  ]
}