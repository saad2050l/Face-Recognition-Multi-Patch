{
  "nbformat": 4,
  "nbformat_minor": 0,
  "metadata": {
    "colab": {
      "name": "Face detection 4 patch.ipynb",
      "provenance": [],
      "collapsed_sections": []
    },
    "kernelspec": {
      "name": "python3",
      "display_name": "Python 3"
    },
    "language_info": {
      "name": "python"
    },
    "accelerator": "GPU"
  },
  "cells": [
    {
      "cell_type": "markdown",
      "metadata": {
        "id": "k5QfAYlKzEPb"
      },
      "source": [
        "# Importing the libraries"
      ]
    },
    {
      "cell_type": "code",
      "metadata": {
        "id": "Couj3ceWpMqZ"
      },
      "source": [
        "from sklearn.datasets import fetch_lfw_people\n",
        "import keras\n",
        "from sklearn.utils import shuffle\n",
        "from sklearn.model_selection import train_test_split\n",
        "import tensorflow as tf\n",
        "import keras.backend as K\n",
        "from math import *\n",
        "\n",
        "import matplotlib.pyplot as plt\n",
        "import matplotlib.patches as patches\n",
        "import numpy as np\n",
        "from keras.utils.np_utils import to_categorical\n",
        "\n",
        "## Setting the seeds for Reproducibility.\n",
        "seed = 3141\n",
        "np.random.seed(seed)\n",
        "\n",
        "import cv2\n",
        "import numpy as np\n",
        "import dlib\n",
        "\n",
        "#importing helpfull functions\n",
        "from utils import rearrange_arr, make_patchs, generate_triplets, dataset_config_doublet, dataset_config_triplet"
      ],
      "execution_count": null,
      "outputs": []
    },
    {
      "cell_type": "markdown",
      "metadata": {
        "id": "MHYTWXbFzKRq"
      },
      "source": [
        "# Importing the LFW dataset"
      ]
    },
    {
      "cell_type": "code",
      "metadata": {
        "id": "5llsb6_rr1a_"
      },
      "source": [
        "# Importing LFW dataset\n",
        "lfw_people = fetch_lfw_people(data_home='.', resize=1, min_faces_per_person=10, color=True)"
      ],
      "execution_count": null,
      "outputs": []
    },
    {
      "cell_type": "code",
      "metadata": {
        "id": "pZM_KTQ6qoEB"
      },
      "source": [
        "# introspect the images arrays to find the shapes (for plotting)\n",
        "n_samples, h, w, d = lfw_people.images.shape\n",
        "\n",
        "# for machine learning we use the 2 data directly\n",
        "X = lfw_people.data\n",
        "n_features = X.shape[1]\n",
        "\n",
        "# the label to predict is the id of the person\n",
        "y = lfw_people.target\n",
        "target_names = lfw_people.target_names\n",
        "n_classes = target_names.shape[0]"
      ],
      "execution_count": null,
      "outputs": []
    },
    {
      "cell_type": "code",
      "metadata": {
        "id": "0TFO_MQnrpW0"
      },
      "source": [
        "# input image dimensions\n",
        "X = X.reshape(n_samples, h, w, d)\n",
        "# Trasforming labels from str to categorical\n",
        "y = to_categorical(y)"
      ],
      "execution_count": null,
      "outputs": []
    },
    {
      "cell_type": "code",
      "metadata": {
        "id": "9OfK5OEfz_sV"
      },
      "source": [
        "patchs_train, patchs_test, patchs_validation, y_train, y_test, y_validation = make_patchs(X[:3000], y[:3000])"
      ],
      "execution_count": null,
      "outputs": []
    },
    {
      "cell_type": "markdown",
      "metadata": {
        "id": "MbKXy6yQCuuu"
      },
      "source": [
        "# Triplet network"
      ]
    },
    {
      "cell_type": "code",
      "metadata": {
        "id": "WwSlzqP2p02f"
      },
      "source": [
        "#Importing the necessary libraries for the training\n",
        "import torch\n",
        "from torch.optim import lr_scheduler\n",
        "import torch.optim as optim\n",
        "from torch.autograd import Variable\n",
        "\n",
        "# Set up the network and training parameters\n",
        "from networks import MultiPatch, TripletNet\n",
        "from losses import TripletLoss\n",
        "from trainer import fit\n",
        "from metrics import TripletMetric"
      ],
      "execution_count": null,
      "outputs": []
    },
    {
      "cell_type": "code",
      "metadata": {
        "id": "AdHgpDKDsAJV"
      },
      "source": [
        "Data_train_triplet, Data_val_triplet = dataset_config_triplet(patchs_train, patchs_validation, y_train, y_validation)"
      ],
      "execution_count": null,
      "outputs": []
    },
    {
      "cell_type": "code",
      "metadata": {
        "id": "ALJLt28XsAJW"
      },
      "source": [
        "batch_size=25\n",
        "cuda = torch.cuda.is_available()\n",
        "\n",
        "kwargs = {'num_workers': 1, 'pin_memory': True} if cuda else {}\n",
        "    triplet_train_loader_triplet = [torch.utils.data.DataLoader(Data_train_triplet[i], batch_size=batch_size, shuffle=True, **kwargs) for i in range(7)]\n",
        "    triplet_test_loader_triplet = [torch.utils.data.DataLoader(Data_val_triplet[i], batch_size=batch_size, shuffle=False, **kwargs) for i in range(7)]"
      ],
      "execution_count": null,
      "outputs": []
    },
    {
      "cell_type": "markdown",
      "metadata": {
        "id": "0LHrZ5cisAJW"
      },
      "source": [
        "Configuring the number of patches"
      ]
    },
    {
      "cell_type": "code",
      "metadata": {
        "id": "bW8yMXzhPQ_M"
      },
      "source": [
        "nb_patch = 4"
      ],
      "execution_count": null,
      "outputs": []
    },
    {
      "cell_type": "code",
      "metadata": {
        "id": "oLvITPzs6xM-"
      },
      "source": [
        "margin = 1.\n",
        "multi_patch = MultiPatch()\n",
        "model = TripletNet(multi_patch, nb_patch)\n",
        "del(multi_patch)\n",
        "if cuda:\n",
        "  model.cuda()\n",
        "loss_fn = TripletLoss(margin)\n",
        "#triplet_loss = torch.nn.TripletMarginLoss(margin=1.0, p=2)\n",
        "lr = 1e-3\n",
        "optimizer = optim.Adam(model.parameters(), lr=lr)\n",
        "scheduler = lr_scheduler.StepLR(optimizer, 8, gamma=0.1, last_epoch=-1)\n",
        "n_epochs = 50\n",
        "log_interval = 100"
      ],
      "execution_count": null,
      "outputs": []
    },
    {
      "cell_type": "markdown",
      "metadata": {
        "id": "4hFuztZ3sAJX"
      },
      "source": [
        "Training the model"
      ]
    },
    {
      "cell_type": "code",
      "metadata": {
        "colab": {
          "base_uri": "https://localhost:8080/"
        },
        "id": "yQwDvJlhEKfw",
        "outputId": "e776c319-6f58-4252-8fab-2b4d5773d7cc"
      },
      "source": [
        "tr_loss, vl_loss, Acc_tr, Acc_vl = fit(triplet_train_loader_triplet, triplet_test_loader_triplet, model, loss_fn, optimizer, scheduler, n_epochs, cuda, log_interval, nb_patch = 1, margin = margin, metrics=[TripletMetric()])"
      ],
      "execution_count": null,
      "outputs": [
        {
          "output_type": "stream",
          "text": [
            "/usr/local/lib/python3.7/dist-packages/torch/optim/lr_scheduler.py:134: UserWarning: Detected call of `lr_scheduler.step()` before `optimizer.step()`. In PyTorch 1.1.0 and later, you should call them in the opposite order: `optimizer.step()` before `lr_scheduler.step()`.  Failure to do this will result in PyTorch skipping the first value of the learning rate schedule. See more details at https://pytorch.org/docs/stable/optim.html#how-to-adjust-learning-rate\n",
            "  \"https://pytorch.org/docs/stable/optim.html#how-to-adjust-learning-rate\", UserWarning)\n"
          ],
          "name": "stderr"
        },
        {
          "output_type": "stream",
          "text": [
            "Train: [0/2250 (0%)]\tLoss: 0.997907\tAccuracy: 0.0\n",
            "Epoch: 1/50. Train set: Average loss: 1.5057\tAccuracy: 0.22266666666666668\n",
            "Epoch: 1/50. Validation set: Average loss: 0.4017\tAccuracy: 0.3\n",
            "Train: [0/2250 (0%)]\tLoss: 0.618443\tAccuracy: 0.2\n",
            "Epoch: 2/50. Train set: Average loss: 0.6530\tAccuracy: 0.36177777777777775\n",
            "Epoch: 2/50. Validation set: Average loss: 0.1854\tAccuracy: 0.7933333333333333\n",
            "Train: [0/2250 (0%)]\tLoss: 0.382011\tAccuracy: 0.64\n",
            "Epoch: 3/50. Train set: Average loss: 0.5061\tAccuracy: 0.5075555555555555\n",
            "Epoch: 3/50. Validation set: Average loss: 0.1561\tAccuracy: 0.6933333333333334\n",
            "Train: [0/2250 (0%)]\tLoss: 0.524078\tAccuracy: 0.44\n",
            "Epoch: 4/50. Train set: Average loss: 0.4458\tAccuracy: 0.5724444444444444\n",
            "Epoch: 4/50. Validation set: Average loss: 0.1319\tAccuracy: 0.8066666666666666\n",
            "Train: [0/2250 (0%)]\tLoss: 0.601928\tAccuracy: 0.48\n",
            "Epoch: 5/50. Train set: Average loss: 0.4055\tAccuracy: 0.6248888888888889\n",
            "Epoch: 5/50. Validation set: Average loss: 0.1137\tAccuracy: 0.82\n",
            "Train: [0/2250 (0%)]\tLoss: 0.559541\tAccuracy: 0.32\n",
            "Epoch: 6/50. Train set: Average loss: 0.2714\tAccuracy: 0.7373333333333333\n",
            "Epoch: 6/50. Validation set: Average loss: 0.0903\tAccuracy: 0.9\n",
            "Train: [0/2250 (0%)]\tLoss: 0.183511\tAccuracy: 0.84\n",
            "Epoch: 7/50. Train set: Average loss: 0.2035\tAccuracy: 0.8084444444444444\n",
            "Epoch: 7/50. Validation set: Average loss: 0.0577\tAccuracy: 0.9133333333333333\n",
            "Train: [0/2250 (0%)]\tLoss: 0.026401\tAccuracy: 0.96\n",
            "Epoch: 8/50. Train set: Average loss: 0.1587\tAccuracy: 0.8297777777777777\n",
            "Epoch: 8/50. Validation set: Average loss: 0.0318\tAccuracy: 0.9466666666666667\n",
            "Train: [0/2250 (0%)]\tLoss: 0.031682\tAccuracy: 0.8\n",
            "Epoch: 9/50. Train set: Average loss: 0.1120\tAccuracy: 0.8728888888888889\n",
            "Epoch: 9/50. Validation set: Average loss: 0.0276\tAccuracy: 0.96\n",
            "Train: [0/2250 (0%)]\tLoss: 0.007769\tAccuracy: 0.92\n",
            "Epoch: 10/50. Train set: Average loss: 0.0861\tAccuracy: 0.8968888888888888\n",
            "Epoch: 10/50. Validation set: Average loss: 0.0204\tAccuracy: 0.9666666666666667\n",
            "Train: [0/2250 (0%)]\tLoss: 0.018858\tAccuracy: 0.96\n",
            "Epoch: 11/50. Train set: Average loss: 0.0848\tAccuracy: 0.9075555555555556\n",
            "Epoch: 11/50. Validation set: Average loss: 0.0164\tAccuracy: 0.9666666666666667\n",
            "Train: [0/2250 (0%)]\tLoss: 0.097902\tAccuracy: 0.8\n",
            "Epoch: 12/50. Train set: Average loss: 0.0796\tAccuracy: 0.9137777777777778\n",
            "Epoch: 12/50. Validation set: Average loss: 0.0136\tAccuracy: 0.9666666666666667\n",
            "Train: [0/2250 (0%)]\tLoss: 0.086928\tAccuracy: 0.92\n",
            "Epoch: 13/50. Train set: Average loss: 0.0764\tAccuracy: 0.912\n",
            "Epoch: 13/50. Validation set: Average loss: 0.0102\tAccuracy: 0.98\n",
            "Train: [0/2250 (0%)]\tLoss: 0.000000\tAccuracy: 1.0\n",
            "Epoch: 14/50. Train set: Average loss: 0.0506\tAccuracy: 0.9351111111111111\n",
            "Epoch: 14/50. Validation set: Average loss: 0.0183\tAccuracy: 0.9733333333333334\n",
            "Train: [0/2250 (0%)]\tLoss: 0.025772\tAccuracy: 0.96\n",
            "Epoch: 15/50. Train set: Average loss: 0.0548\tAccuracy: 0.9395555555555556\n",
            "Epoch: 15/50. Validation set: Average loss: 0.0099\tAccuracy: 0.9666666666666667\n",
            "Train: [0/2250 (0%)]\tLoss: 0.000000\tAccuracy: 1.0\n",
            "Epoch: 16/50. Train set: Average loss: 0.0567\tAccuracy: 0.9328888888888889\n",
            "Epoch: 16/50. Validation set: Average loss: 0.0104\tAccuracy: 0.98\n",
            "Train: [0/2250 (0%)]\tLoss: 0.152834\tAccuracy: 0.88\n",
            "Epoch: 17/50. Train set: Average loss: 0.0549\tAccuracy: 0.9395555555555556\n",
            "Epoch: 17/50. Validation set: Average loss: 0.0110\tAccuracy: 0.98\n",
            "Train: [0/2250 (0%)]\tLoss: 0.002787\tAccuracy: 0.92\n",
            "Epoch: 18/50. Train set: Average loss: 0.0490\tAccuracy: 0.9422222222222222\n",
            "Epoch: 18/50. Validation set: Average loss: 0.0121\tAccuracy: 0.98\n",
            "Train: [0/2250 (0%)]\tLoss: 0.000000\tAccuracy: 1.0\n",
            "Epoch: 19/50. Train set: Average loss: 0.0527\tAccuracy: 0.9408888888888889\n",
            "Epoch: 19/50. Validation set: Average loss: 0.0123\tAccuracy: 0.98\n",
            "Train: [0/2250 (0%)]\tLoss: 0.101498\tAccuracy: 0.92\n",
            "Epoch: 20/50. Train set: Average loss: 0.0472\tAccuracy: 0.9404444444444444\n",
            "Epoch: 20/50. Validation set: Average loss: 0.0128\tAccuracy: 0.98\n",
            "Train: [0/2250 (0%)]\tLoss: 0.018568\tAccuracy: 0.96\n",
            "Epoch: 21/50. Train set: Average loss: 0.0527\tAccuracy: 0.9457777777777778\n",
            "Epoch: 21/50. Validation set: Average loss: 0.0131\tAccuracy: 0.98\n",
            "Train: [0/2250 (0%)]\tLoss: 0.119662\tAccuracy: 0.88\n",
            "Epoch: 22/50. Train set: Average loss: 0.0487\tAccuracy: 0.9484444444444444\n",
            "Epoch: 22/50. Validation set: Average loss: 0.0126\tAccuracy: 0.98\n",
            "Train: [0/2250 (0%)]\tLoss: 0.000000\tAccuracy: 1.0\n",
            "Epoch: 23/50. Train set: Average loss: 0.0537\tAccuracy: 0.9457777777777778\n",
            "Epoch: 23/50. Validation set: Average loss: 0.0129\tAccuracy: 0.98\n",
            "Train: [0/2250 (0%)]\tLoss: 0.069331\tAccuracy: 0.88\n",
            "Epoch: 24/50. Train set: Average loss: 0.0518\tAccuracy: 0.9413333333333334\n",
            "Epoch: 24/50. Validation set: Average loss: 0.0128\tAccuracy: 0.98\n",
            "Train: [0/2250 (0%)]\tLoss: 0.131544\tAccuracy: 0.88\n",
            "Epoch: 25/50. Train set: Average loss: 0.0558\tAccuracy: 0.9333333333333333\n",
            "Epoch: 25/50. Validation set: Average loss: 0.0129\tAccuracy: 0.98\n",
            "Train: [0/2250 (0%)]\tLoss: 0.102238\tAccuracy: 0.92\n",
            "Epoch: 26/50. Train set: Average loss: 0.0510\tAccuracy: 0.9333333333333333\n",
            "Epoch: 26/50. Validation set: Average loss: 0.0129\tAccuracy: 0.98\n",
            "Train: [0/2250 (0%)]\tLoss: 0.137233\tAccuracy: 0.88\n",
            "Epoch: 27/50. Train set: Average loss: 0.0504\tAccuracy: 0.9413333333333334\n",
            "Epoch: 27/50. Validation set: Average loss: 0.0130\tAccuracy: 0.98\n",
            "Train: [0/2250 (0%)]\tLoss: 0.000000\tAccuracy: 1.0\n",
            "Epoch: 28/50. Train set: Average loss: 0.0534\tAccuracy: 0.9444444444444444\n",
            "Epoch: 28/50. Validation set: Average loss: 0.0130\tAccuracy: 0.98\n",
            "Train: [0/2250 (0%)]\tLoss: 0.139574\tAccuracy: 0.88\n",
            "Epoch: 29/50. Train set: Average loss: 0.0508\tAccuracy: 0.9457777777777778\n",
            "Epoch: 29/50. Validation set: Average loss: 0.0130\tAccuracy: 0.98\n",
            "Train: [0/2250 (0%)]\tLoss: 0.000000\tAccuracy: 1.0\n",
            "Epoch: 30/50. Train set: Average loss: 0.0427\tAccuracy: 0.9511111111111111\n",
            "Epoch: 30/50. Validation set: Average loss: 0.0129\tAccuracy: 0.98\n",
            "Train: [0/2250 (0%)]\tLoss: 0.022462\tAccuracy: 0.96\n",
            "Epoch: 31/50. Train set: Average loss: 0.0493\tAccuracy: 0.9391111111111111\n",
            "Epoch: 31/50. Validation set: Average loss: 0.0128\tAccuracy: 0.98\n",
            "Train: [0/2250 (0%)]\tLoss: 0.025020\tAccuracy: 0.96\n",
            "Epoch: 32/50. Train set: Average loss: 0.0436\tAccuracy: 0.9426666666666667\n",
            "Epoch: 32/50. Validation set: Average loss: 0.0128\tAccuracy: 0.98\n",
            "Train: [0/2250 (0%)]\tLoss: 0.089104\tAccuracy: 0.88\n",
            "Epoch: 33/50. Train set: Average loss: 0.0535\tAccuracy: 0.9351111111111111\n",
            "Epoch: 33/50. Validation set: Average loss: 0.0128\tAccuracy: 0.98\n",
            "Train: [0/2250 (0%)]\tLoss: 0.012352\tAccuracy: 0.96\n",
            "Epoch: 34/50. Train set: Average loss: 0.0442\tAccuracy: 0.9422222222222222\n",
            "Epoch: 34/50. Validation set: Average loss: 0.0128\tAccuracy: 0.98\n",
            "Train: [0/2250 (0%)]\tLoss: 0.055555\tAccuracy: 0.92\n",
            "Epoch: 35/50. Train set: Average loss: 0.0488\tAccuracy: 0.9417777777777778\n",
            "Epoch: 35/50. Validation set: Average loss: 0.0128\tAccuracy: 0.98\n",
            "Train: [0/2250 (0%)]\tLoss: 0.031796\tAccuracy: 0.96\n",
            "Epoch: 36/50. Train set: Average loss: 0.0462\tAccuracy: 0.9413333333333334\n",
            "Epoch: 36/50. Validation set: Average loss: 0.0128\tAccuracy: 0.98\n",
            "Train: [0/2250 (0%)]\tLoss: 0.000000\tAccuracy: 1.0\n",
            "Epoch: 37/50. Train set: Average loss: 0.0418\tAccuracy: 0.9471111111111111\n",
            "Epoch: 37/50. Validation set: Average loss: 0.0128\tAccuracy: 0.98\n",
            "Train: [0/2250 (0%)]\tLoss: 0.002526\tAccuracy: 0.96\n",
            "Epoch: 38/50. Train set: Average loss: 0.0448\tAccuracy: 0.9444444444444444\n",
            "Epoch: 38/50. Validation set: Average loss: 0.0128\tAccuracy: 0.98\n",
            "Train: [0/2250 (0%)]\tLoss: 0.108959\tAccuracy: 0.92\n",
            "Epoch: 39/50. Train set: Average loss: 0.0399\tAccuracy: 0.9462222222222222\n",
            "Epoch: 39/50. Validation set: Average loss: 0.0128\tAccuracy: 0.98\n",
            "Train: [0/2250 (0%)]\tLoss: 0.082271\tAccuracy: 0.92\n",
            "Epoch: 40/50. Train set: Average loss: 0.0417\tAccuracy: 0.9546666666666667\n",
            "Epoch: 40/50. Validation set: Average loss: 0.0128\tAccuracy: 0.98\n",
            "Train: [0/2250 (0%)]\tLoss: 0.035070\tAccuracy: 0.96\n",
            "Epoch: 41/50. Train set: Average loss: 0.0398\tAccuracy: 0.9453333333333334\n",
            "Epoch: 41/50. Validation set: Average loss: 0.0128\tAccuracy: 0.98\n",
            "Train: [0/2250 (0%)]\tLoss: 0.000000\tAccuracy: 1.0\n",
            "Epoch: 42/50. Train set: Average loss: 0.0462\tAccuracy: 0.9426666666666667\n",
            "Epoch: 42/50. Validation set: Average loss: 0.0128\tAccuracy: 0.98\n",
            "Train: [0/2250 (0%)]\tLoss: 0.072203\tAccuracy: 0.92\n",
            "Epoch: 43/50. Train set: Average loss: 0.0523\tAccuracy: 0.9355555555555556\n",
            "Epoch: 43/50. Validation set: Average loss: 0.0128\tAccuracy: 0.98\n",
            "Train: [0/2250 (0%)]\tLoss: 0.117062\tAccuracy: 0.88\n",
            "Epoch: 44/50. Train set: Average loss: 0.0479\tAccuracy: 0.9417777777777778\n",
            "Epoch: 44/50. Validation set: Average loss: 0.0128\tAccuracy: 0.98\n",
            "Train: [0/2250 (0%)]\tLoss: 0.000000\tAccuracy: 1.0\n",
            "Epoch: 45/50. Train set: Average loss: 0.0417\tAccuracy: 0.9488888888888889\n",
            "Epoch: 45/50. Validation set: Average loss: 0.0128\tAccuracy: 0.98\n",
            "Train: [0/2250 (0%)]\tLoss: 0.153515\tAccuracy: 0.84\n",
            "Epoch: 46/50. Train set: Average loss: 0.0484\tAccuracy: 0.9448888888888889\n",
            "Epoch: 46/50. Validation set: Average loss: 0.0128\tAccuracy: 0.98\n",
            "Train: [0/2250 (0%)]\tLoss: 0.055784\tAccuracy: 0.96\n",
            "Epoch: 47/50. Train set: Average loss: 0.0466\tAccuracy: 0.9466666666666667\n",
            "Epoch: 47/50. Validation set: Average loss: 0.0128\tAccuracy: 0.98\n",
            "Train: [0/2250 (0%)]\tLoss: 0.000000\tAccuracy: 1.0\n",
            "Epoch: 48/50. Train set: Average loss: 0.0367\tAccuracy: 0.9471111111111111\n",
            "Epoch: 48/50. Validation set: Average loss: 0.0128\tAccuracy: 0.98\n",
            "Train: [0/2250 (0%)]\tLoss: 0.041314\tAccuracy: 0.96\n",
            "Epoch: 49/50. Train set: Average loss: 0.0506\tAccuracy: 0.9417777777777778\n",
            "Epoch: 49/50. Validation set: Average loss: 0.0128\tAccuracy: 0.98\n",
            "Train: [0/2250 (0%)]\tLoss: 0.075937\tAccuracy: 0.84\n",
            "Epoch: 50/50. Train set: Average loss: 0.0469\tAccuracy: 0.9404444444444444\n",
            "Epoch: 50/50. Validation set: Average loss: 0.0128\tAccuracy: 0.98\n"
          ],
          "name": "stdout"
        }
      ]
    },
    {
      "cell_type": "markdown",
      "metadata": {
        "id": "RxG3IW-csAJZ"
      },
      "source": [
        " Saving the model weights"
      ]
    },
    {
      "cell_type": "code",
      "metadata": {
        "id": "Tz1ZNLB9bq2V"
      },
      "source": [
        "torch.save(model.state_dict(), 'triplet_lfw_'+str(nb_patch))"
      ],
      "execution_count": null,
      "outputs": []
    },
    {
      "cell_type": "markdown",
      "metadata": {
        "id": "sQrIQDyzsAJZ"
      },
      "source": [
        "Saving the Loss and Accuracy for each epoch"
      ]
    },
    {
      "cell_type": "code",
      "metadata": {
        "id": "KcdnD-6JEQEo"
      },
      "source": [
        "np.save(\"loss_tr_lfw_\"+str(nb_patch), tr_loss)\n",
        "np.save(\"loss_vl_lfw_\"+str(nb_patch), vl_loss)\n",
        "np.save(\"acc_tr_lfw_\"+str(nb_patch), Acc_tr)\n",
        "np.save(\"acc_vl_lfw_\"+str(nb_patch), Acc_vl)"
      ],
      "execution_count": null,
      "outputs": []
    },
    {
      "cell_type": "markdown",
      "metadata": {
        "id": "qJsattX6sAJZ"
      },
      "source": [
        "Visualizing the results"
      ]
    },
    {
      "cell_type": "code",
      "metadata": {
        "colab": {
          "base_uri": "https://localhost:8080/",
          "height": 509
        },
        "id": "sfD_FxTlXVII",
        "outputId": "3ac3f606-e090-4b74-b830-3b038f9c807c"
      },
      "source": [
        "X = range(1, 51)\n",
        "fig, ax1 = plt.subplots()\n",
        "plt.rcParams[\"figure.figsize\"] = (10, 7)\n",
        "plt.rcParams.update({'font.size': 12})\n",
        "plt.title('Loss and Accuracy for 4 patch LFW')\n",
        "color = 'tab:red'\n",
        "ax1.set_xlabel('Epochs')\n",
        "ax1.set_ylabel(\"Loss\", color=color)\n",
        "ax1.plot(list(X), tr_loss,'.-', label='train', color = 'lightcoral')\n",
        "ax1.plot(list(X), vl_loss,'.-', label='validation', color = 'darkred')\n",
        "ax1.tick_params(axis='y', labelcolor=color)\n",
        "\n",
        "ax2 = ax1.twinx()  # instantiate a second axes that shares the same x-axis\n",
        "\n",
        "color = 'tab:blue'\n",
        "ax2.set_ylabel('Accuracy', color=color)  # we already handled the x-label with ax1\n",
        "ax2.plot(list(X), Acc_tr, '.-', label='train', color = 'cornflowerblue')\n",
        "ax2.plot(list(X), Acc_vl, '.-', label='validation', color = 'navy')\n",
        "ax2.tick_params(axis='y', labelcolor=color)\n",
        "ax2.set_yticks([i/20 for i in range(21) ])\n",
        "fig.tight_layout()  # otherwise the right y-label is slightly clipped\n",
        "plt.show()"
      ],
      "execution_count": null,
      "outputs": [
        {
          "output_type": "display_data",
          "data": {
            "image/png": "[encoded data removed]",
            "text/plain": [
              "<Figure size 720x504 with 2 Axes>"
            ]
          },
          "metadata": {
            "tags": [],
            "needs_background": "light"
          }
        }
      ]
    },
    {
      "cell_type": "markdown",
      "metadata": {
        "id": "ttc0J7NcsXfH"
      },
      "source": [
        "# Siamese network\n"
      ]
    },
    {
      "cell_type": "code",
      "metadata": {
        "id": "bwvwnkCjsopN"
      },
      "source": [
        "Data_train_doublet, Data_val_doublet = dataset_config_triplet(patchs_train, patchs_validation, y_train, y_validation)"
      ],
      "execution_count": null,
      "outputs": []
    },
    {
      "cell_type": "code",
      "metadata": {
        "id": "jv4DvFucCuuu"
      },
      "source": [
        "batch_size = 25\n",
        "kwargs = {'num_workers': 1, 'pin_memory': True} if cuda else {}\n",
        "triplet_train_loader_doublet = [torch.utils.data.DataLoader(Data_train_doublet[i], batch_size=batch_size, shuffle=True, **kwargs) for i in range(7)]\n",
        "triplet_test_loader_doublet = [torch.utils.data.DataLoader(Data_val_doublet[i], batch_size=batch_size, shuffle=False, **kwargs) for i in range(7)]"
      ],
      "execution_count": null,
      "outputs": []
    },
    {
      "cell_type": "code",
      "metadata": {
        "id": "HUoDW03msXfL"
      },
      "source": [
        "# Set up the network and training parameters\n",
        "from networks import MultiPatch, SiameseNet\n",
        "from losses import ContrastiveLoss\n",
        "from trainer import fit\n",
        "from metrics import ContrastiveMetric"
      ],
      "execution_count": null,
      "outputs": []
    },
    {
      "cell_type": "code",
      "metadata": {
        "id": "m9_DTtOPsXfM"
      },
      "source": [
        "nb_patch = 4"
      ],
      "execution_count": null,
      "outputs": []
    },
    {
      "cell_type": "code",
      "metadata": {
        "id": "u9F8yfowsXfM"
      },
      "source": [
        "margin = 1.\n",
        "multi_patch = MultiPatch()\n",
        "model = SiameseNet(multi_patch, nb_patch = nb_patch)\n",
        "del(multi_patch)\n",
        "if cuda:\n",
        "  model.cuda()\n",
        "loss_fn = ContrastiveLoss(margin)\n",
        "#triplet_loss = torch.nn.TripletMarginLoss(margin=1.0, p=2)\n",
        "lr = 1e-3\n",
        "optimizer = optim.Adam(model.parameters(), lr=lr)\n",
        "scheduler = lr_scheduler.StepLR(optimizer, 8, gamma=0.1, last_epoch=-1)\n",
        "n_epochs = 50\n",
        "log_interval = 100"
      ],
      "execution_count": null,
      "outputs": []
    },
    {
      "cell_type": "code",
      "metadata": {
        "id": "jrq13pF2I69q",
        "colab": {
          "base_uri": "https://localhost:8080/"
        },
        "outputId": "445ac7bd-01b8-4379-d080-d0d2c66e01e5"
      },
      "source": [
        "tr_loss, vl_loss, Acc_tr, Acc_vl = fit(triplet_train_loader_doublet, triplet_test_loader_doublet, model, loss_fn, optimizer, scheduler, n_epochs, cuda, log_interval, nb_patch = nb_patch, margin = margin, metrics=[ContrastiveMetric()])"
      ],
      "execution_count": null,
      "outputs": [
        {
          "output_type": "stream",
          "text": [
            "/usr/local/lib/python3.7/dist-packages/torch/optim/lr_scheduler.py:134: UserWarning: Detected call of `lr_scheduler.step()` before `optimizer.step()`. In PyTorch 1.1.0 and later, you should call them in the opposite order: `optimizer.step()` before `lr_scheduler.step()`.  Failure to do this will result in PyTorch skipping the first value of the learning rate schedule. See more details at https://pytorch.org/docs/stable/optim.html#how-to-adjust-learning-rate\n",
            "  \"https://pytorch.org/docs/stable/optim.html#how-to-adjust-learning-rate\", UserWarning)\n"
          ],
          "name": "stderr"
        },
        {
          "output_type": "stream",
          "text": [
            "Train: [0/3000 (0%)]\tLoss: 0.204999\tAccuracy: 0.48\n",
            "Train: [2500/3000 (83%)]\tLoss: 1.512286\tAccuracy: 0.525940594059406\n",
            "Epoch: 1/50. Train set: Average loss: 1.2821\tAccuracy: 0.5246666666666666\n",
            "Epoch: 1/50. Validation set: Average loss: 0.0846\tAccuracy: 0.59\n",
            "Train: [0/3000 (0%)]\tLoss: 0.123844\tAccuracy: 0.52\n",
            "Train: [2500/3000 (83%)]\tLoss: 0.118913\tAccuracy: 0.5544554455445545\n",
            "Epoch: 2/50. Train set: Average loss: 0.1184\tAccuracy: 0.552\n",
            "Epoch: 2/50. Validation set: Average loss: 0.0829\tAccuracy: 0.6\n",
            "Train: [0/3000 (0%)]\tLoss: 0.109073\tAccuracy: 0.68\n",
            "Train: [2500/3000 (83%)]\tLoss: 0.113374\tAccuracy: 0.573069306930693\n",
            "Epoch: 3/50. Train set: Average loss: 0.1120\tAccuracy: 0.576\n",
            "Epoch: 3/50. Validation set: Average loss: 0.0626\tAccuracy: 0.745\n",
            "Train: [0/3000 (0%)]\tLoss: 0.095646\tAccuracy: 0.76\n",
            "Train: [2500/3000 (83%)]\tLoss: 0.104660\tAccuracy: 0.5908910891089109\n",
            "Epoch: 4/50. Train set: Average loss: 0.1051\tAccuracy: 0.593\n",
            "Epoch: 4/50. Validation set: Average loss: 0.0802\tAccuracy: 0.58\n",
            "Train: [0/3000 (0%)]\tLoss: 0.110953\tAccuracy: 0.36\n",
            "Train: [2500/3000 (83%)]\tLoss: 0.101187\tAccuracy: 0.6106930693069307\n",
            "Epoch: 5/50. Train set: Average loss: 0.1008\tAccuracy: 0.608\n",
            "Epoch: 5/50. Validation set: Average loss: 0.0785\tAccuracy: 0.595\n",
            "Train: [0/3000 (0%)]\tLoss: 0.098312\tAccuracy: 0.68\n",
            "Train: [2500/3000 (83%)]\tLoss: 0.094408\tAccuracy: 0.6352475247524753\n",
            "Epoch: 6/50. Train set: Average loss: 0.0946\tAccuracy: 0.634\n",
            "Epoch: 6/50. Validation set: Average loss: 0.0702\tAccuracy: 0.635\n",
            "Train: [0/3000 (0%)]\tLoss: 0.091528\tAccuracy: 0.52\n",
            "Train: [2500/3000 (83%)]\tLoss: 0.086955\tAccuracy: 0.6665346534653466\n",
            "Epoch: 7/50. Train set: Average loss: 0.0877\tAccuracy: 0.6653333333333333\n",
            "Epoch: 7/50. Validation set: Average loss: 0.0711\tAccuracy: 0.635\n",
            "Train: [0/3000 (0%)]\tLoss: 0.098023\tAccuracy: 0.64\n",
            "Train: [2500/3000 (83%)]\tLoss: 0.077287\tAccuracy: 0.7045544554455445\n",
            "Epoch: 8/50. Train set: Average loss: 0.0775\tAccuracy: 0.7043333333333334\n",
            "Epoch: 8/50. Validation set: Average loss: 0.0647\tAccuracy: 0.675\n",
            "Train: [0/3000 (0%)]\tLoss: 0.062351\tAccuracy: 0.68\n",
            "Train: [2500/3000 (83%)]\tLoss: 0.074100\tAccuracy: 0.7184158415841584\n",
            "Epoch: 9/50. Train set: Average loss: 0.0738\tAccuracy: 0.724\n",
            "Epoch: 9/50. Validation set: Average loss: 0.0612\tAccuracy: 0.695\n",
            "Train: [0/3000 (0%)]\tLoss: 0.063634\tAccuracy: 0.8\n",
            "Train: [2500/3000 (83%)]\tLoss: 0.071388\tAccuracy: 0.7295049504950495\n",
            "Epoch: 10/50. Train set: Average loss: 0.0716\tAccuracy: 0.7313333333333333\n",
            "Epoch: 10/50. Validation set: Average loss: 0.0614\tAccuracy: 0.695\n",
            "Train: [0/3000 (0%)]\tLoss: 0.059658\tAccuracy: 0.72\n",
            "Train: [2500/3000 (83%)]\tLoss: 0.070274\tAccuracy: 0.735049504950495\n",
            "Epoch: 11/50. Train set: Average loss: 0.0700\tAccuracy: 0.7393333333333333\n",
            "Epoch: 11/50. Validation set: Average loss: 0.0593\tAccuracy: 0.715\n",
            "Train: [0/3000 (0%)]\tLoss: 0.060130\tAccuracy: 0.6\n",
            "Train: [2500/3000 (83%)]\tLoss: 0.068156\tAccuracy: 0.7489108910891089\n",
            "Epoch: 12/50. Train set: Average loss: 0.0685\tAccuracy: 0.746\n",
            "Epoch: 12/50. Validation set: Average loss: 0.0576\tAccuracy: 0.735\n",
            "Train: [0/3000 (0%)]\tLoss: 0.060421\tAccuracy: 0.88\n",
            "Train: [2500/3000 (83%)]\tLoss: 0.066261\tAccuracy: 0.76\n",
            "Epoch: 13/50. Train set: Average loss: 0.0666\tAccuracy: 0.7556666666666667\n",
            "Epoch: 13/50. Validation set: Average loss: 0.0576\tAccuracy: 0.75\n",
            "Train: [0/3000 (0%)]\tLoss: 0.067758\tAccuracy: 0.84\n",
            "Train: [2500/3000 (83%)]\tLoss: 0.064676\tAccuracy: 0.763960396039604\n",
            "Epoch: 14/50. Train set: Average loss: 0.0652\tAccuracy: 0.7623333333333333\n",
            "Epoch: 14/50. Validation set: Average loss: 0.0573\tAccuracy: 0.74\n",
            "Train: [0/3000 (0%)]\tLoss: 0.071485\tAccuracy: 0.84\n",
            "Train: [2500/3000 (83%)]\tLoss: 0.062642\tAccuracy: 0.7695049504950495\n",
            "Epoch: 15/50. Train set: Average loss: 0.0637\tAccuracy: 0.765\n",
            "Epoch: 15/50. Validation set: Average loss: 0.0578\tAccuracy: 0.72\n",
            "Train: [0/3000 (0%)]\tLoss: 0.044970\tAccuracy: 0.84\n",
            "Train: [2500/3000 (83%)]\tLoss: 0.061120\tAccuracy: 0.7635643564356436\n",
            "Epoch: 16/50. Train set: Average loss: 0.0609\tAccuracy: 0.7686666666666667\n",
            "Epoch: 16/50. Validation set: Average loss: 0.0570\tAccuracy: 0.715\n",
            "Train: [0/3000 (0%)]\tLoss: 0.061466\tAccuracy: 0.88\n",
            "Train: [2500/3000 (83%)]\tLoss: 0.060184\tAccuracy: 0.7774257425742575\n",
            "Epoch: 17/50. Train set: Average loss: 0.0605\tAccuracy: 0.7786666666666666\n",
            "Epoch: 17/50. Validation set: Average loss: 0.0569\tAccuracy: 0.72\n",
            "Train: [0/3000 (0%)]\tLoss: 0.044880\tAccuracy: 0.84\n",
            "Train: [2500/3000 (83%)]\tLoss: 0.060426\tAccuracy: 0.7821782178217822\n",
            "Epoch: 18/50. Train set: Average loss: 0.0602\tAccuracy: 0.779\n",
            "Epoch: 18/50. Validation set: Average loss: 0.0569\tAccuracy: 0.715\n",
            "Train: [0/3000 (0%)]\tLoss: 0.055675\tAccuracy: 0.96\n",
            "Train: [2500/3000 (83%)]\tLoss: 0.060724\tAccuracy: 0.7833663366336634\n",
            "Epoch: 19/50. Train set: Average loss: 0.0600\tAccuracy: 0.779\n",
            "Epoch: 19/50. Validation set: Average loss: 0.0564\tAccuracy: 0.725\n",
            "Train: [0/3000 (0%)]\tLoss: 0.059149\tAccuracy: 0.76\n",
            "Train: [2500/3000 (83%)]\tLoss: 0.059380\tAccuracy: 0.7857425742574258\n",
            "Epoch: 20/50. Train set: Average loss: 0.0598\tAccuracy: 0.7843333333333333\n",
            "Epoch: 20/50. Validation set: Average loss: 0.0564\tAccuracy: 0.725\n",
            "Train: [0/3000 (0%)]\tLoss: 0.047763\tAccuracy: 0.92\n",
            "Train: [2500/3000 (83%)]\tLoss: 0.059504\tAccuracy: 0.786930693069307\n",
            "Epoch: 21/50. Train set: Average loss: 0.0596\tAccuracy: 0.783\n",
            "Epoch: 21/50. Validation set: Average loss: 0.0563\tAccuracy: 0.725\n",
            "Train: [0/3000 (0%)]\tLoss: 0.044418\tAccuracy: 0.8\n",
            "Train: [2500/3000 (83%)]\tLoss: 0.060179\tAccuracy: 0.7837623762376238\n",
            "Epoch: 22/50. Train set: Average loss: 0.0594\tAccuracy: 0.7813333333333333\n",
            "Epoch: 22/50. Validation set: Average loss: 0.0561\tAccuracy: 0.725\n",
            "Train: [0/3000 (0%)]\tLoss: 0.070680\tAccuracy: 0.72\n",
            "Train: [2500/3000 (83%)]\tLoss: 0.059102\tAccuracy: 0.7857425742574258\n",
            "Epoch: 23/50. Train set: Average loss: 0.0593\tAccuracy: 0.7866666666666666\n",
            "Epoch: 23/50. Validation set: Average loss: 0.0563\tAccuracy: 0.725\n",
            "Train: [0/3000 (0%)]\tLoss: 0.087777\tAccuracy: 0.6\n",
            "Train: [2500/3000 (83%)]\tLoss: 0.058158\tAccuracy: 0.7877227722772278\n",
            "Epoch: 24/50. Train set: Average loss: 0.0589\tAccuracy: 0.786\n",
            "Epoch: 24/50. Validation set: Average loss: 0.0563\tAccuracy: 0.725\n",
            "Train: [0/3000 (0%)]\tLoss: 0.051838\tAccuracy: 0.88\n",
            "Train: [2500/3000 (83%)]\tLoss: 0.058330\tAccuracy: 0.7873267326732674\n",
            "Epoch: 25/50. Train set: Average loss: 0.0589\tAccuracy: 0.787\n",
            "Epoch: 25/50. Validation set: Average loss: 0.0563\tAccuracy: 0.725\n",
            "Train: [0/3000 (0%)]\tLoss: 0.061414\tAccuracy: 0.8\n",
            "Train: [2500/3000 (83%)]\tLoss: 0.059023\tAccuracy: 0.7857425742574258\n",
            "Epoch: 26/50. Train set: Average loss: 0.0589\tAccuracy: 0.787\n",
            "Epoch: 26/50. Validation set: Average loss: 0.0563\tAccuracy: 0.725\n",
            "Train: [0/3000 (0%)]\tLoss: 0.054757\tAccuracy: 0.84\n",
            "Train: [2500/3000 (83%)]\tLoss: 0.058789\tAccuracy: 0.7861386138613862\n",
            "Epoch: 27/50. Train set: Average loss: 0.0589\tAccuracy: 0.7863333333333333\n",
            "Epoch: 27/50. Validation set: Average loss: 0.0563\tAccuracy: 0.72\n",
            "Train: [0/3000 (0%)]\tLoss: 0.057849\tAccuracy: 0.76\n",
            "Train: [2500/3000 (83%)]\tLoss: 0.059428\tAccuracy: 0.7805940594059406\n",
            "Epoch: 28/50. Train set: Average loss: 0.0588\tAccuracy: 0.7866666666666666\n",
            "Epoch: 28/50. Validation set: Average loss: 0.0563\tAccuracy: 0.72\n",
            "Train: [0/3000 (0%)]\tLoss: 0.059297\tAccuracy: 0.8\n",
            "Train: [2500/3000 (83%)]\tLoss: 0.059003\tAccuracy: 0.7857425742574258\n",
            "Epoch: 29/50. Train set: Average loss: 0.0588\tAccuracy: 0.7863333333333333\n",
            "Epoch: 29/50. Validation set: Average loss: 0.0563\tAccuracy: 0.72\n",
            "Train: [0/3000 (0%)]\tLoss: 0.055422\tAccuracy: 0.64\n",
            "Train: [2500/3000 (83%)]\tLoss: 0.058710\tAccuracy: 0.7893069306930693\n",
            "Epoch: 30/50. Train set: Average loss: 0.0588\tAccuracy: 0.7863333333333333\n",
            "Epoch: 30/50. Validation set: Average loss: 0.0563\tAccuracy: 0.72\n",
            "Train: [0/3000 (0%)]\tLoss: 0.055428\tAccuracy: 0.84\n",
            "Train: [2500/3000 (83%)]\tLoss: 0.059344\tAccuracy: 0.7853465346534654\n",
            "Epoch: 31/50. Train set: Average loss: 0.0588\tAccuracy: 0.7863333333333333\n",
            "Epoch: 31/50. Validation set: Average loss: 0.0563\tAccuracy: 0.72\n",
            "Train: [0/3000 (0%)]\tLoss: 0.063599\tAccuracy: 0.76\n",
            "Train: [2500/3000 (83%)]\tLoss: 0.059299\tAccuracy: 0.7825742574257426\n",
            "Epoch: 32/50. Train set: Average loss: 0.0587\tAccuracy: 0.7866666666666666\n",
            "Epoch: 32/50. Validation set: Average loss: 0.0563\tAccuracy: 0.72\n",
            "Train: [0/3000 (0%)]\tLoss: 0.069350\tAccuracy: 0.88\n",
            "Train: [2500/3000 (83%)]\tLoss: 0.058116\tAccuracy: 0.7877227722772278\n",
            "Epoch: 33/50. Train set: Average loss: 0.0587\tAccuracy: 0.7866666666666666\n",
            "Epoch: 33/50. Validation set: Average loss: 0.0563\tAccuracy: 0.72\n",
            "Train: [0/3000 (0%)]\tLoss: 0.067873\tAccuracy: 0.68\n",
            "Train: [2500/3000 (83%)]\tLoss: 0.058684\tAccuracy: 0.782970297029703\n",
            "Epoch: 34/50. Train set: Average loss: 0.0587\tAccuracy: 0.7866666666666666\n",
            "Epoch: 34/50. Validation set: Average loss: 0.0563\tAccuracy: 0.72\n",
            "Train: [0/3000 (0%)]\tLoss: 0.066794\tAccuracy: 0.76\n",
            "Train: [2500/3000 (83%)]\tLoss: 0.058574\tAccuracy: 0.7857425742574258\n",
            "Epoch: 35/50. Train set: Average loss: 0.0587\tAccuracy: 0.787\n",
            "Epoch: 35/50. Validation set: Average loss: 0.0563\tAccuracy: 0.72\n",
            "Train: [0/3000 (0%)]\tLoss: 0.063069\tAccuracy: 0.84\n",
            "Train: [2500/3000 (83%)]\tLoss: 0.058673\tAccuracy: 0.788910891089109\n",
            "Epoch: 36/50. Train set: Average loss: 0.0587\tAccuracy: 0.7866666666666666\n",
            "Epoch: 36/50. Validation set: Average loss: 0.0563\tAccuracy: 0.72\n",
            "Train: [0/3000 (0%)]\tLoss: 0.052670\tAccuracy: 0.88\n",
            "Train: [2500/3000 (83%)]\tLoss: 0.058875\tAccuracy: 0.786930693069307\n",
            "Epoch: 37/50. Train set: Average loss: 0.0587\tAccuracy: 0.7866666666666666\n",
            "Epoch: 37/50. Validation set: Average loss: 0.0563\tAccuracy: 0.72\n",
            "Train: [0/3000 (0%)]\tLoss: 0.058156\tAccuracy: 0.84\n",
            "Train: [2500/3000 (83%)]\tLoss: 0.058771\tAccuracy: 0.786930693069307\n",
            "Epoch: 38/50. Train set: Average loss: 0.0587\tAccuracy: 0.787\n",
            "Epoch: 38/50. Validation set: Average loss: 0.0563\tAccuracy: 0.72\n",
            "Train: [0/3000 (0%)]\tLoss: 0.057913\tAccuracy: 0.76\n",
            "Train: [2500/3000 (83%)]\tLoss: 0.059633\tAccuracy: 0.784950495049505\n",
            "Epoch: 39/50. Train set: Average loss: 0.0587\tAccuracy: 0.787\n",
            "Epoch: 39/50. Validation set: Average loss: 0.0563\tAccuracy: 0.72\n",
            "Train: [0/3000 (0%)]\tLoss: 0.057071\tAccuracy: 0.84\n",
            "Train: [2500/3000 (83%)]\tLoss: 0.058583\tAccuracy: 0.7857425742574258\n",
            "Epoch: 40/50. Train set: Average loss: 0.0587\tAccuracy: 0.787\n",
            "Epoch: 40/50. Validation set: Average loss: 0.0563\tAccuracy: 0.72\n",
            "Train: [0/3000 (0%)]\tLoss: 0.068988\tAccuracy: 0.68\n",
            "Train: [2500/3000 (83%)]\tLoss: 0.058676\tAccuracy: 0.784950495049505\n",
            "Epoch: 41/50. Train set: Average loss: 0.0587\tAccuracy: 0.787\n",
            "Epoch: 41/50. Validation set: Average loss: 0.0563\tAccuracy: 0.72\n",
            "Train: [0/3000 (0%)]\tLoss: 0.038530\tAccuracy: 0.84\n",
            "Train: [2500/3000 (83%)]\tLoss: 0.059262\tAccuracy: 0.7881188118811882\n",
            "Epoch: 42/50. Train set: Average loss: 0.0587\tAccuracy: 0.7873333333333333\n",
            "Epoch: 42/50. Validation set: Average loss: 0.0563\tAccuracy: 0.72\n",
            "Train: [0/3000 (0%)]\tLoss: 0.041088\tAccuracy: 0.84\n",
            "Train: [2500/3000 (83%)]\tLoss: 0.059218\tAccuracy: 0.786930693069307\n",
            "Epoch: 43/50. Train set: Average loss: 0.0587\tAccuracy: 0.787\n",
            "Epoch: 43/50. Validation set: Average loss: 0.0563\tAccuracy: 0.72\n",
            "Train: [0/3000 (0%)]\tLoss: 0.064356\tAccuracy: 0.84\n",
            "Train: [2500/3000 (83%)]\tLoss: 0.057403\tAccuracy: 0.788910891089109\n",
            "Epoch: 44/50. Train set: Average loss: 0.0587\tAccuracy: 0.7866666666666666\n",
            "Epoch: 44/50. Validation set: Average loss: 0.0563\tAccuracy: 0.72\n",
            "Train: [0/3000 (0%)]\tLoss: 0.064557\tAccuracy: 0.6\n",
            "Train: [2500/3000 (83%)]\tLoss: 0.059105\tAccuracy: 0.782970297029703\n",
            "Epoch: 45/50. Train set: Average loss: 0.0587\tAccuracy: 0.7866666666666666\n",
            "Epoch: 45/50. Validation set: Average loss: 0.0563\tAccuracy: 0.72\n",
            "Train: [0/3000 (0%)]\tLoss: 0.056232\tAccuracy: 0.84\n",
            "Train: [2500/3000 (83%)]\tLoss: 0.058578\tAccuracy: 0.7893069306930693\n",
            "Epoch: 46/50. Train set: Average loss: 0.0587\tAccuracy: 0.787\n",
            "Epoch: 46/50. Validation set: Average loss: 0.0563\tAccuracy: 0.72\n",
            "Train: [0/3000 (0%)]\tLoss: 0.069297\tAccuracy: 0.72\n",
            "Train: [2500/3000 (83%)]\tLoss: 0.058923\tAccuracy: 0.7845544554455446\n",
            "Epoch: 47/50. Train set: Average loss: 0.0587\tAccuracy: 0.787\n",
            "Epoch: 47/50. Validation set: Average loss: 0.0563\tAccuracy: 0.72\n",
            "Train: [0/3000 (0%)]\tLoss: 0.047775\tAccuracy: 0.72\n",
            "Train: [2500/3000 (83%)]\tLoss: 0.058844\tAccuracy: 0.7944554455445545\n",
            "Epoch: 48/50. Train set: Average loss: 0.0587\tAccuracy: 0.787\n",
            "Epoch: 48/50. Validation set: Average loss: 0.0563\tAccuracy: 0.72\n",
            "Train: [0/3000 (0%)]\tLoss: 0.080220\tAccuracy: 0.8\n",
            "Train: [2500/3000 (83%)]\tLoss: 0.058371\tAccuracy: 0.7912871287128713\n",
            "Epoch: 49/50. Train set: Average loss: 0.0587\tAccuracy: 0.787\n",
            "Epoch: 49/50. Validation set: Average loss: 0.0563\tAccuracy: 0.72\n",
            "Train: [0/3000 (0%)]\tLoss: 0.050717\tAccuracy: 0.88\n",
            "Train: [2500/3000 (83%)]\tLoss: 0.058123\tAccuracy: 0.7912871287128713\n",
            "Epoch: 50/50. Train set: Average loss: 0.0587\tAccuracy: 0.787\n",
            "Epoch: 50/50. Validation set: Average loss: 0.0563\tAccuracy: 0.72\n"
          ],
          "name": "stdout"
        }
      ]
    },
    {
      "cell_type": "code",
      "metadata": {
        "id": "DSneWSFTsXfO"
      },
      "source": [
        "np.save(\"loss_tr_siamese_lfw_\"+str(nb_patch), tr_loss)\n",
        "np.save(\"loss_vl_siamese_lfw_\"+str(nb_patch), vl_loss)\n",
        "np.save(\"acc_tr_siamese_lfw_\"+str(nb_patch), Acc_tr)\n",
        "np.save(\"acc_vl_siamese_lfw_\"+str(nb_patch), Acc_vl)"
      ],
      "execution_count": null,
      "outputs": []
    },
    {
      "cell_type": "code",
      "metadata": {
        "id": "kLXznfGHXTiW",
        "colab": {
          "base_uri": "https://localhost:8080/",
          "height": 509
        },
        "outputId": "09fb0c2d-fc86-4a05-8eb3-187b45501f6c"
      },
      "source": [
        "X = range(1, 51)\n",
        "fig, ax1 = plt.subplots()\n",
        "plt.rcParams[\"figure.figsize\"] = (10, 7)\n",
        "plt.rcParams.update({'font.size': 12})\n",
        "plt.title('Loss and Accuracy for '+str(nb_patch) +' patch LFW (Siamese)')\n",
        "color = 'tab:red'\n",
        "ax1.set_xlabel('Epochs')\n",
        "ax1.set_ylabel(\"Loss\", color=color)\n",
        "ax1.plot(list(X), tr_loss,'.-', label='train', color = 'lightcoral')\n",
        "ax1.plot(list(X), vl_loss,'.-', label='validation', color = 'darkred')\n",
        "ax1.tick_params(axis='y', labelcolor=color)\n",
        "\n",
        "ax2 = ax1.twinx()  # instantiate a second axes that shares the same x-axis\n",
        "\n",
        "color = 'tab:blue'\n",
        "ax2.set_ylabel('Accuracy', color=color)  # we already handled the x-label with ax1\n",
        "ax2.plot(list(X), Acc_tr, '.-', label='train', color = 'cornflowerblue')\n",
        "ax2.plot(list(X), Acc_vl, '.-', label='validation', color = 'navy')\n",
        "ax2.tick_params(axis='y', labelcolor=color)\n",
        "ax2.set_yticks([i/20 for i in range(21) ])\n",
        "fig.tight_layout()  # otherwise the right y-label is slightly clipped\n",
        "plt.show()"
      ],
      "execution_count": null,
      "outputs": [
        {
          "output_type": "display_data",
          "data": {
            "image/png": "[encoded data removed]",
            "text/plain": [
              "<Figure size 720x504 with 2 Axes>"
            ]
          },
          "metadata": {
            "tags": [],
            "needs_background": "light"
          }
        }
      ]
    }
  ]
}